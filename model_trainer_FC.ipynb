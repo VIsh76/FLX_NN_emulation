{
 "cells": [
  {
   "cell_type": "markdown",
   "metadata": {},
   "source": [
    "# TRAINING JUPYTER"
   ]
  },
  {
   "cell_type": "markdown",
   "metadata": {},
   "source": [
    "### Parameter setting"
   ]
  },
  {
   "cell_type": "code",
   "execution_count": 12,
   "metadata": {},
   "outputs": [],
   "source": [
    "# Imports et variables setting\n",
    "\n",
    "# General Libs\n",
    "import matplotlib.pyplot as plt\n",
    "import numpy as np\n",
    "import pandas as pd\n",
    "import os\n",
    "import keras\n",
    "import datetime\n",
    "from contextlib import redirect_stdout\n",
    "\n",
    "# Current files\n",
    "from generator import Up_and_Down_Generator, FC_Generator\n",
    "from preprocess import Level_Normalizer, DictPrepross\n",
    "\n",
    "from utils import Load_FLX_dict, Plot_Batch\n",
    "from CST import CST\n",
    "\n",
    "\n",
    "data_folder=  CST.Data_folder(CST)\n",
    "model_folder = CST.Model_folder(CST)\n",
    "log_folder = CST.Log_folder(CST)\n",
    "\n",
    "##### Dictionnary\n",
    "seed=0\n",
    "np.random.seed(seed)\n",
    "\n",
    "D2 = []\n",
    "D2 = [DictPrepross(['o3','pl'], [Level_Normalizer(False),Level_Normalizer(False)] )]\n",
    "D = [Load_FLX_dict()]\n",
    "##### Kernels\n",
    "\n",
    "Klist = []\n",
    "fit_genator = Up_and_Down_Generator(folder=data_folder, batch_size=512, train=True, preprocess_x=D)\n",
    "D2[0]['pl'].fit(fit_genator[0][0][:,:,3])\n",
    "D2[0]['o3'].fit(fit_genator[0][0][:,:,2])\n",
    "\n",
    "##### Full Preprocessing :\n",
    "FP = D + D2 #+ Klist\n",
    "##### b_size\n",
    "batch_size= 64\n",
    "\n",
    "train_generator =  FC_Generator(folder=data_folder, batch_size=batch_size, train=True, preprocess_x=FP,custom_b_p_e = 500)\n",
    "validation_generator =  FC_Generator(folder=data_folder, batch_size=5*batch_size, train=False, preprocess_x=FP, custom_b_p_e = 50)\n",
    "\n",
    "header_x = train_generator.variables\n",
    "header_y = train_generator.new_variables_pred"
   ]
  },
  {
   "cell_type": "markdown",
   "metadata": {},
   "source": [
    "## II) ARCHITECTURES"
   ]
  },
  {
   "cell_type": "markdown",
   "metadata": {},
   "source": [
    "### FC"
   ]
  },
  {
   "cell_type": "code",
   "execution_count": 13,
   "metadata": {},
   "outputs": [
    {
     "name": "stdout",
     "output_type": "stream",
     "text": [
      "__________________________________________________________________________________________________\n",
      "Layer (type)                    Output Shape         Param #     Connected to                     \n",
      "==================================================================================================\n",
      "InputLev_0 (InputLayer)         (64, 72, 8)          0                                            \n",
      "__________________________________________________________________________________________________\n",
      "Up_0 (UpSampling1D)             (64, 360, 8)         0           InputLev_0[0][0]                 \n",
      "__________________________________________________________________________________________________\n",
      "AVG_1 (AveragePooling1D)        (64, 72, 8)          0           Up_0[0][0]                       \n",
      "__________________________________________________________________________________________________\n",
      "Flat_0 (Flatten)                (64, 576)            0           AVG_1[0][0]                      \n",
      "__________________________________________________________________________________________________\n",
      "InputU_1 (InputLayer)           (64, 3)              0                                            \n",
      "__________________________________________________________________________________________________\n",
      "Concat_0 (Concatenate)          (64, 579)            0           Flat_0[0][0]                     \n",
      "                                                                 InputU_1[0][0]                   \n",
      "__________________________________________________________________________________________________\n",
      "Dense_0 (Dense)                 (64, 300)            174000      Concat_0[0][0]                   \n",
      "__________________________________________________________________________________________________\n",
      "Act_0 (Activation)              (64, 300)            0           Dense_0[0][0]                    \n",
      "__________________________________________________________________________________________________\n",
      "Dense_1 (Dense)                 (64, 150)            45150       Act_0[0][0]                      \n",
      "__________________________________________________________________________________________________\n",
      "Act_1 (Activation)              (64, 150)            0           Dense_1[0][0]                    \n",
      "__________________________________________________________________________________________________\n",
      "Dense_2 (Dense)                 (64, 64)             9664        Act_1[0][0]                      \n",
      "__________________________________________________________________________________________________\n",
      "Act_2 (Activation)              (64, 64)             0           Dense_2[0][0]                    \n",
      "__________________________________________________________________________________________________\n",
      "Dense_3 (Dense)                 (64, 25)             1625        Act_2[0][0]                      \n",
      "__________________________________________________________________________________________________\n",
      "Act_3 (Activation)              (64, 25)             0           Dense_3[0][0]                    \n",
      "__________________________________________________________________________________________________\n",
      "Dense_4 (Dense)                 (64, 64)             1664        Act_3[0][0]                      \n",
      "__________________________________________________________________________________________________\n",
      "Act_4 (Activation)              (64, 64)             0           Dense_4[0][0]                    \n",
      "__________________________________________________________________________________________________\n",
      "Dense_5 (Dense)                 (64, 150)            9750        Act_4[0][0]                      \n",
      "__________________________________________________________________________________________________\n",
      "Act_5 (Activation)              (64, 150)            0           Dense_5[0][0]                    \n",
      "__________________________________________________________________________________________________\n",
      "Dense_6 (Dense)                 (64, 216)            32400       Act_5[0][0]                      \n",
      "==================================================================================================\n",
      "Total params: 274,253\n",
      "Trainable params: 274,253\n",
      "Non-trainable params: 0\n",
      "__________________________________________________________________________________________________\n"
     ]
    },
    {
     "name": "stderr",
     "output_type": "stream",
     "text": [
      "/home/victor/Documents/Stage/FLXmodel/FLX_NN_emulation/architectures.py:209: UserWarning: Update your `AveragePooling1D` call to the Keras 2 API: `AveragePooling1D(22, padding=\"same\", name=\"AVG_1\", strides=5)`\n",
      "  o2 = AveragePooling1D(pooling, padding='same', stride=ups, name=Name('AVG',1))(o1)\n"
     ]
    }
   ],
   "source": [
    "from architectures import FC_archi, LossHistory, Generate_Log, Bidir_Causal_Conv\n",
    "from architectures import total_loss_fc, flxd_loss_fc, flxu_loss_fc, dfdts_loss_fc\n",
    "\n",
    "from keras import optimizers\n",
    "import datetime\n",
    "ups=5\n",
    "pooling=22\n",
    "units = [300, 150, 64, 25, 64, 150, 72*3]\n",
    "\n",
    "prefix = datetime.datetime.now().strftime(\"%Y%m%d%H%M%S\")\n",
    "archi = \"FC\"\n",
    "\n",
    "#M_ffc = FFC_archi(ups=ups, pooling=pooling, BS=batch_size, list_of_unit=units )\n",
    "M = FC_archi(ups, pooling, units, batch_size, reg=0.0001, o_channel=3, lev= 72, unique_var = 3, level_var=8)\n",
    "\n",
    "LH = LossHistory()\n",
    "rmsprop = optimizers.RMSprop(lr=0.01, rho=0.9, epsilon=None, decay=1.e-6)\n",
    "M.compile(loss=total_loss_fc, optimizer=rmsprop, metrics=[flxd_loss_fc,flxu_loss_fc, dfdts_loss_fc])\n",
    "M.summary()"
   ]
  },
  {
   "cell_type": "code",
   "execution_count": 14,
   "metadata": {},
   "outputs": [
    {
     "name": "stdout",
     "output_type": "stream",
     "text": [
      "2 0 3\n"
     ]
    }
   ],
   "source": [
    "print(train_generator.current_file,train_generator.current_b, train_generator.current_folder)"
   ]
  },
  {
   "cell_type": "code",
   "execution_count": 15,
   "metadata": {
    "scrolled": true
   },
   "outputs": [
    {
     "name": "stdout",
     "output_type": "stream",
     "text": [
      "Epoch 1/150\n",
      "500/500 [==============================] - 2s 4ms/step - loss: 640.0834 - flxd_loss_fc: 40.0000 - flxu_loss_fc: 16.3655 - dfdts_loss_fc: 583.4835 - val_loss: 82.0530 - val_flxd_loss_fc: 37.3573 - val_flxu_loss_fc: 15.6614 - val_dfdts_loss_fc: 28.6442\n",
      "Epoch 2/150\n",
      "500/500 [==============================] - 3s 6ms/step - loss: 53.0266 - flxd_loss_fc: 26.8602 - flxu_loss_fc: 14.4629 - dfdts_loss_fc: 11.2909 - val_loss: 152.3024 - val_flxd_loss_fc: 63.4576 - val_flxu_loss_fc: 23.3435 - val_dfdts_loss_fc: 65.0062\n",
      "Epoch 3/150\n",
      "500/500 [==============================] - 3s 5ms/step - loss: 41.6839 - flxd_loss_fc: 19.9398 - flxu_loss_fc: 11.2905 - dfdts_loss_fc: 9.9184 - val_loss: 145.0253 - val_flxd_loss_fc: 59.1983 - val_flxu_loss_fc: 20.3625 - val_dfdts_loss_fc: 64.8784\n",
      "Epoch 4/150\n",
      "500/500 [==============================] - 3s 5ms/step - loss: 69.7664 - flxd_loss_fc: 34.8346 - flxu_loss_fc: 13.1890 - dfdts_loss_fc: 21.0981 - val_loss: 86.3755 - val_flxd_loss_fc: 33.2976 - val_flxu_loss_fc: 11.8102 - val_dfdts_loss_fc: 40.5665\n",
      "Epoch 5/150\n",
      "500/500 [==============================] - 3s 6ms/step - loss: 59.5290 - flxd_loss_fc: 30.6214 - flxu_loss_fc: 15.8499 - dfdts_loss_fc: 12.3924 - val_loss: 65.8266 - val_flxd_loss_fc: 35.7996 - val_flxu_loss_fc: 16.0324 - val_dfdts_loss_fc: 13.2991\n",
      "Epoch 6/150\n",
      "500/500 [==============================] - 3s 5ms/step - loss: 56.9870 - flxd_loss_fc: 29.3611 - flxu_loss_fc: 15.0152 - dfdts_loss_fc: 11.8738 - val_loss: 114.3594 - val_flxd_loss_fc: 40.6835 - val_flxu_loss_fc: 17.0129 - val_dfdts_loss_fc: 55.8901\n",
      "Epoch 7/150\n",
      "500/500 [==============================] - 3s 6ms/step - loss: 58.9643 - flxd_loss_fc: 29.6364 - flxu_loss_fc: 8.5732 - dfdts_loss_fc: 20.0051 - val_loss: 69.2818 - val_flxd_loss_fc: 36.3969 - val_flxu_loss_fc: 16.3343 - val_dfdts_loss_fc: 15.7937\n",
      "Epoch 8/150\n",
      "500/500 [==============================] - 3s 5ms/step - loss: 56.7070 - flxd_loss_fc: 29.2254 - flxu_loss_fc: 15.0677 - dfdts_loss_fc: 11.6493 - val_loss: 64.5546 - val_flxd_loss_fc: 35.1970 - val_flxu_loss_fc: 15.3961 - val_dfdts_loss_fc: 13.1778\n",
      "Epoch 9/150\n",
      "500/500 [==============================] - 3s 5ms/step - loss: 55.4474 - flxd_loss_fc: 28.5563 - flxu_loss_fc: 14.8608 - dfdts_loss_fc: 11.2280 - val_loss: 129.8578 - val_flxd_loss_fc: 58.3865 - val_flxu_loss_fc: 18.6157 - val_dfdts_loss_fc: 52.0296\n",
      "Epoch 10/150\n",
      "500/500 [==============================] - 3s 6ms/step - loss: 56.8548 - flxd_loss_fc: 28.6337 - flxu_loss_fc: 14.8538 - dfdts_loss_fc: 12.5139 - val_loss: 55.1152 - val_flxd_loss_fc: 28.2376 - val_flxu_loss_fc: 14.2328 - val_dfdts_loss_fc: 11.7620\n",
      "Epoch 11/150\n",
      "500/500 [==============================] - 3s 5ms/step - loss: 55.1270 - flxd_loss_fc: 27.5981 - flxu_loss_fc: 8.6259 - dfdts_loss_fc: 18.0553 - val_loss: 57.8891 - val_flxd_loss_fc: 28.0876 - val_flxu_loss_fc: 9.1714 - val_dfdts_loss_fc: 19.7872\n",
      "Epoch 12/150\n",
      "500/500 [==============================] - 3s 5ms/step - loss: 55.7771 - flxd_loss_fc: 28.6268 - flxu_loss_fc: 15.1850 - dfdts_loss_fc: 11.1288 - val_loss: 133.3101 - val_flxd_loss_fc: 59.6396 - val_flxu_loss_fc: 19.0500 - val_dfdts_loss_fc: 53.7609\n",
      "Epoch 13/150\n",
      "500/500 [==============================] - 3s 5ms/step - loss: 108.0176 - flxd_loss_fc: 55.3849 - flxu_loss_fc: 17.0741 - dfdts_loss_fc: 34.7622 - val_loss: 79.4960 - val_flxd_loss_fc: 32.5878 - val_flxu_loss_fc: 11.9747 - val_dfdts_loss_fc: 34.1699\n",
      "Epoch 14/150\n",
      "500/500 [==============================] - 3s 6ms/step - loss: 53.5375 - flxd_loss_fc: 28.6446 - flxu_loss_fc: 13.5014 - dfdts_loss_fc: 10.6909 - val_loss: 105.5653 - val_flxd_loss_fc: 44.1929 - val_flxu_loss_fc: 24.1711 - val_dfdts_loss_fc: 36.5164\n",
      "Epoch 15/150\n",
      "500/500 [==============================] - 3s 6ms/step - loss: 57.4328 - flxd_loss_fc: 29.2706 - flxu_loss_fc: 9.1729 - dfdts_loss_fc: 18.3274 - val_loss: 75.3412 - val_flxd_loss_fc: 37.3787 - val_flxu_loss_fc: 15.1948 - val_dfdts_loss_fc: 22.0934\n",
      "Epoch 16/150\n",
      "500/500 [==============================] - 3s 7ms/step - loss: 66.3246 - flxd_loss_fc: 33.9146 - flxu_loss_fc: 12.7354 - dfdts_loss_fc: 19.0198 - val_loss: 79.3947 - val_flxd_loss_fc: 36.8215 - val_flxu_loss_fc: 17.9642 - val_dfdts_loss_fc: 23.9495\n",
      "Epoch 17/150\n",
      "500/500 [==============================] - 3s 6ms/step - loss: 56.2936 - flxd_loss_fc: 31.6347 - flxu_loss_fc: 13.0292 - dfdts_loss_fc: 11.0193 - val_loss: 98.7625 - val_flxd_loss_fc: 39.5727 - val_flxu_loss_fc: 16.5660 - val_dfdts_loss_fc: 42.0077\n",
      "Epoch 18/150\n",
      "500/500 [==============================] - 3s 5ms/step - loss: 52.7032 - flxd_loss_fc: 28.8672 - flxu_loss_fc: 12.6219 - dfdts_loss_fc: 10.5772 - val_loss: 94.7476 - val_flxd_loss_fc: 40.7450 - val_flxu_loss_fc: 17.5832 - val_dfdts_loss_fc: 35.7651\n",
      "Epoch 19/150\n",
      "500/500 [==============================] - 3s 6ms/step - loss: 57.3916 - flxd_loss_fc: 29.5144 - flxu_loss_fc: 8.5596 - dfdts_loss_fc: 18.6992 - val_loss: 68.7731 - val_flxd_loss_fc: 36.9052 - val_flxu_loss_fc: 16.2950 - val_dfdts_loss_fc: 14.9523\n",
      "Epoch 20/150\n",
      "500/500 [==============================] - 3s 6ms/step - loss: 55.6795 - flxd_loss_fc: 29.0639 - flxu_loss_fc: 15.1381 - dfdts_loss_fc: 10.8739 - val_loss: 134.0965 - val_flxd_loss_fc: 44.3072 - val_flxu_loss_fc: 20.0213 - val_dfdts_loss_fc: 69.1533\n",
      "Epoch 21/150\n",
      "500/500 [==============================] - 3s 6ms/step - loss: 29.2051 - flxd_loss_fc: 14.4259 - flxu_loss_fc: 7.6249 - dfdts_loss_fc: 6.5528 - val_loss: 156.1038 - val_flxd_loss_fc: 40.7736 - val_flxu_loss_fc: 16.8855 - val_dfdts_loss_fc: 97.8366\n",
      "Epoch 22/150\n",
      "500/500 [==============================] - 3s 6ms/step - loss: 57.1940 - flxd_loss_fc: 29.0012 - flxu_loss_fc: 8.5654 - dfdts_loss_fc: 19.0207 - val_loss: 69.4420 - val_flxd_loss_fc: 33.7405 - val_flxu_loss_fc: 16.6995 - val_dfdts_loss_fc: 18.3840\n",
      "Epoch 23/150\n",
      "500/500 [==============================] - 3s 6ms/step - loss: 29.6332 - flxd_loss_fc: 14.6469 - flxu_loss_fc: 7.8454 - dfdts_loss_fc: 6.5712 - val_loss: 64.8836 - val_flxd_loss_fc: 35.1529 - val_flxu_loss_fc: 14.3432 - val_dfdts_loss_fc: 14.8324\n",
      "Epoch 24/150\n",
      "500/500 [==============================] - 3s 6ms/step - loss: 43.3262 - flxd_loss_fc: 23.3959 - flxu_loss_fc: 11.2781 - dfdts_loss_fc: 8.0778 - val_loss: 55.0099 - val_flxd_loss_fc: 30.6909 - val_flxu_loss_fc: 12.8688 - val_dfdts_loss_fc: 10.8531\n",
      "Epoch 25/150\n",
      "500/500 [==============================] - 3s 6ms/step - loss: 47.4663 - flxd_loss_fc: 21.0269 - flxu_loss_fc: 9.5256 - dfdts_loss_fc: 16.3211 - val_loss: 87.3037 - val_flxd_loss_fc: 47.2551 - val_flxu_loss_fc: 19.2965 - val_dfdts_loss_fc: 20.1443\n",
      "Epoch 26/150\n",
      "500/500 [==============================] - 4s 7ms/step - loss: 44.4141 - flxd_loss_fc: 23.9223 - flxu_loss_fc: 11.4405 - dfdts_loss_fc: 8.4368 - val_loss: 86.8203 - val_flxd_loss_fc: 38.4735 - val_flxu_loss_fc: 19.3499 - val_dfdts_loss_fc: 28.3681\n",
      "Epoch 27/150\n",
      "500/500 [==============================] - 3s 7ms/step - loss: 57.5226 - flxd_loss_fc: 28.8249 - flxu_loss_fc: 8.6213 - dfdts_loss_fc: 19.4761 - val_loss: 75.4402 - val_flxd_loss_fc: 36.5531 - val_flxu_loss_fc: 14.9043 - val_dfdts_loss_fc: 23.3825\n",
      "Epoch 28/150\n",
      "500/500 [==============================] - 3s 6ms/step - loss: 54.4835 - flxd_loss_fc: 27.8457 - flxu_loss_fc: 8.3665 - dfdts_loss_fc: 17.6604 - val_loss: 53.6379 - val_flxd_loss_fc: 27.4659 - val_flxu_loss_fc: 8.5750 - val_dfdts_loss_fc: 16.9772\n",
      "Epoch 29/150\n",
      "500/500 [==============================] - 3s 7ms/step - loss: 52.0260 - flxd_loss_fc: 26.7472 - flxu_loss_fc: 8.0498 - dfdts_loss_fc: 16.5990 - val_loss: 56.3919 - val_flxd_loss_fc: 28.1059 - val_flxu_loss_fc: 9.1722 - val_dfdts_loss_fc: 18.4722\n",
      "Epoch 30/150\n",
      "500/500 [==============================] - 3s 7ms/step - loss: 111.1494 - flxd_loss_fc: 56.1171 - flxu_loss_fc: 17.6903 - dfdts_loss_fc: 36.7219 - val_loss: 72.1924 - val_flxd_loss_fc: 34.7786 - val_flxu_loss_fc: 18.7413 - val_dfdts_loss_fc: 18.0549\n",
      "Epoch 31/150\n",
      "500/500 [==============================] - 3s 6ms/step - loss: 56.9253 - flxd_loss_fc: 29.8354 - flxu_loss_fc: 15.0948 - dfdts_loss_fc: 11.4124 - val_loss: 65.5843 - val_flxd_loss_fc: 30.7844 - val_flxu_loss_fc: 10.0659 - val_dfdts_loss_fc: 24.1511\n",
      "Epoch 32/150\n"
     ]
    },
    {
     "name": "stdout",
     "output_type": "stream",
     "text": [
      "500/500 [==============================] - 3s 6ms/step - loss: 55.6790 - flxd_loss_fc: 31.6138 - flxu_loss_fc: 12.8954 - dfdts_loss_fc: 10.5933 - val_loss: 94.7110 - val_flxd_loss_fc: 40.7560 - val_flxu_loss_fc: 21.6129 - val_dfdts_loss_fc: 31.7569\n",
      "Epoch 33/150\n",
      "500/500 [==============================] - 3s 6ms/step - loss: 109.3584 - flxd_loss_fc: 55.5521 - flxu_loss_fc: 17.0244 - dfdts_loss_fc: 36.1943 - val_loss: 72.8313 - val_flxd_loss_fc: 31.9271 - val_flxu_loss_fc: 10.6674 - val_dfdts_loss_fc: 29.6365\n",
      "Epoch 34/150\n",
      "500/500 [==============================] - 3s 7ms/step - loss: 56.5907 - flxd_loss_fc: 29.2742 - flxu_loss_fc: 8.7332 - dfdts_loss_fc: 17.9982 - val_loss: 53.2257 - val_flxd_loss_fc: 27.5739 - val_flxu_loss_fc: 8.7334 - val_dfdts_loss_fc: 16.3288\n",
      "Epoch 35/150\n",
      "500/500 [==============================] - 3s 6ms/step - loss: 53.9248 - flxd_loss_fc: 27.7249 - flxu_loss_fc: 8.6239 - dfdts_loss_fc: 16.9669 - val_loss: 54.8746 - val_flxd_loss_fc: 27.5804 - val_flxu_loss_fc: 8.9149 - val_dfdts_loss_fc: 17.7496\n",
      "Epoch 36/150\n",
      "500/500 [==============================] - 3s 6ms/step - loss: 33.5855 - flxd_loss_fc: 15.9330 - flxu_loss_fc: 6.0456 - dfdts_loss_fc: 10.9667 - val_loss: 71.3733 - val_flxd_loss_fc: 32.4861 - val_flxu_loss_fc: 12.4086 - val_dfdts_loss_fc: 25.8267\n",
      "Epoch 37/150\n",
      "500/500 [==============================] - 3s 6ms/step - loss: 32.7602 - flxd_loss_fc: 15.6914 - flxu_loss_fc: 5.8526 - dfdts_loss_fc: 10.5551 - val_loss: 58.7505 - val_flxd_loss_fc: 29.0712 - val_flxu_loss_fc: 9.8632 - val_dfdts_loss_fc: 19.1452\n",
      "Epoch 38/150\n",
      "500/500 [==============================] - 3s 6ms/step - loss: 105.8074 - flxd_loss_fc: 54.8143 - flxu_loss_fc: 16.9519 - dfdts_loss_fc: 33.3952 - val_loss: 78.7624 - val_flxd_loss_fc: 36.5782 - val_flxu_loss_fc: 15.8742 - val_dfdts_loss_fc: 25.6710\n",
      "Epoch 39/150\n",
      "500/500 [==============================] - 3s 7ms/step - loss: 45.3859 - flxd_loss_fc: 20.8399 - flxu_loss_fc: 9.7537 - dfdts_loss_fc: 14.1714 - val_loss: 126.0253 - val_flxd_loss_fc: 58.7751 - val_flxu_loss_fc: 18.9479 - val_dfdts_loss_fc: 47.6842\n",
      "Epoch 40/150\n",
      "500/500 [==============================] - 3s 6ms/step - loss: 105.4434 - flxd_loss_fc: 54.8653 - flxu_loss_fc: 17.0962 - dfdts_loss_fc: 32.8724 - val_loss: 78.9032 - val_flxd_loss_fc: 37.6407 - val_flxu_loss_fc: 15.4844 - val_dfdts_loss_fc: 25.1565\n",
      "Epoch 41/150\n",
      "500/500 [==============================] - 3s 6ms/step - loss: 102.4782 - flxd_loss_fc: 53.5091 - flxu_loss_fc: 16.3785 - dfdts_loss_fc: 31.9622 - val_loss: 71.2482 - val_flxd_loss_fc: 32.4351 - val_flxu_loss_fc: 10.6040 - val_dfdts_loss_fc: 27.5704\n",
      "Epoch 42/150\n",
      "500/500 [==============================] - 3s 7ms/step - loss: 51.9617 - flxd_loss_fc: 28.2920 - flxu_loss_fc: 13.1553 - dfdts_loss_fc: 9.9042 - val_loss: 124.9015 - val_flxd_loss_fc: 58.3940 - val_flxu_loss_fc: 19.0637 - val_dfdts_loss_fc: 46.8461\n",
      "Epoch 43/150\n",
      "500/500 [==============================] - 3s 7ms/step - loss: 55.5650 - flxd_loss_fc: 28.7991 - flxu_loss_fc: 8.5466 - dfdts_loss_fc: 17.6237 - val_loss: 69.5801 - val_flxd_loss_fc: 35.5675 - val_flxu_loss_fc: 16.1956 - val_dfdts_loss_fc: 17.2113\n",
      "Epoch 44/150\n",
      "500/500 [==============================] - 4s 8ms/step - loss: 69.5301 - flxd_loss_fc: 33.6558 - flxu_loss_fc: 11.6228 - dfdts_loss_fc: 23.6503 - val_loss: 88.2208 - val_flxd_loss_fc: 36.8510 - val_flxu_loss_fc: 15.3075 - val_dfdts_loss_fc: 35.4531\n",
      "Epoch 45/150\n",
      "500/500 [==============================] - 3s 7ms/step - loss: 65.6201 - flxd_loss_fc: 33.5773 - flxu_loss_fc: 12.5554 - dfdts_loss_fc: 18.8684 - val_loss: 74.9233 - val_flxd_loss_fc: 42.1036 - val_flxu_loss_fc: 18.1807 - val_dfdts_loss_fc: 14.0056\n",
      "Epoch 46/150\n",
      "500/500 [==============================] - 4s 7ms/step - loss: 43.3683 - flxd_loss_fc: 20.3353 - flxu_loss_fc: 9.5064 - dfdts_loss_fc: 12.8904 - val_loss: 71.2769 - val_flxd_loss_fc: 35.8666 - val_flxu_loss_fc: 17.8327 - val_dfdts_loss_fc: 16.9407\n",
      "Epoch 47/150\n",
      "500/500 [==============================] - 3s 7ms/step - loss: 62.3540 - flxd_loss_fc: 32.2271 - flxu_loss_fc: 11.9667 - dfdts_loss_fc: 17.5070 - val_loss: 69.2854 - val_flxd_loss_fc: 33.3737 - val_flxu_loss_fc: 11.7939 - val_dfdts_loss_fc: 23.4509\n",
      "Epoch 48/150\n",
      "500/500 [==============================] - 3s 6ms/step - loss: 59.1701 - flxd_loss_fc: 30.8192 - flxu_loss_fc: 15.3309 - dfdts_loss_fc: 12.3775 - val_loss: 58.8071 - val_flxd_loss_fc: 33.2131 - val_flxu_loss_fc: 13.7572 - val_dfdts_loss_fc: 11.1814\n",
      "Epoch 49/150\n",
      "500/500 [==============================] - 3s 6ms/step - loss: 44.1321 - flxd_loss_fc: 20.2884 - flxu_loss_fc: 9.4382 - dfdts_loss_fc: 13.7449 - val_loss: 135.6993 - val_flxd_loss_fc: 60.7785 - val_flxu_loss_fc: 20.3893 - val_dfdts_loss_fc: 53.8651\n",
      "Epoch 50/150\n",
      "500/500 [==============================] - 3s 6ms/step - loss: 42.4569 - flxd_loss_fc: 19.7267 - flxu_loss_fc: 9.2804 - dfdts_loss_fc: 12.7777 - val_loss: 72.6235 - val_flxd_loss_fc: 35.8664 - val_flxu_loss_fc: 17.9965 - val_dfdts_loss_fc: 18.0842\n",
      "Epoch 51/150\n",
      "500/500 [==============================] - 3s 7ms/step - loss: 106.3197 - flxd_loss_fc: 55.0602 - flxu_loss_fc: 17.1482 - dfdts_loss_fc: 33.4610 - val_loss: 90.4621 - val_flxd_loss_fc: 39.4809 - val_flxu_loss_fc: 16.3578 - val_dfdts_loss_fc: 33.9721\n",
      "Epoch 52/150\n",
      "500/500 [==============================] - 3s 6ms/step - loss: 29.9172 - flxd_loss_fc: 14.6412 - flxu_loss_fc: 8.1204 - dfdts_loss_fc: 6.5489 - val_loss: 68.9442 - val_flxd_loss_fc: 36.6228 - val_flxu_loss_fc: 14.6222 - val_dfdts_loss_fc: 17.1252\n",
      "Epoch 53/150\n",
      "500/500 [==============================] - 3s 7ms/step - loss: 50.5360 - flxd_loss_fc: 28.3107 - flxu_loss_fc: 12.4278 - dfdts_loss_fc: 9.2280 - val_loss: 73.9494 - val_flxd_loss_fc: 32.2517 - val_flxu_loss_fc: 13.1012 - val_dfdts_loss_fc: 28.0222\n",
      "Epoch 54/150\n",
      "500/500 [==============================] - 4s 7ms/step - loss: 54.3057 - flxd_loss_fc: 27.7183 - flxu_loss_fc: 8.6488 - dfdts_loss_fc: 17.3737 - val_loss: 132.1687 - val_flxd_loss_fc: 57.5924 - val_flxu_loss_fc: 18.5117 - val_dfdts_loss_fc: 55.4887\n",
      "Epoch 55/150\n",
      "500/500 [==============================] - 4s 7ms/step - loss: 108.0816 - flxd_loss_fc: 55.6950 - flxu_loss_fc: 17.2154 - dfdts_loss_fc: 34.6129 - val_loss: 76.6302 - val_flxd_loss_fc: 36.1834 - val_flxu_loss_fc: 17.7642 - val_dfdts_loss_fc: 22.1241\n",
      "Epoch 56/150\n",
      "500/500 [==============================] - 3s 6ms/step - loss: 45.0719 - flxd_loss_fc: 20.7523 - flxu_loss_fc: 9.7643 - dfdts_loss_fc: 14.0000 - val_loss: 97.8482 - val_flxd_loss_fc: 50.3031 - val_flxu_loss_fc: 23.5293 - val_dfdts_loss_fc: 23.4542\n",
      "Epoch 57/150\n",
      "500/500 [==============================] - 4s 7ms/step - loss: 55.8804 - flxd_loss_fc: 29.0003 - flxu_loss_fc: 9.2244 - dfdts_loss_fc: 17.0869 - val_loss: 54.3240 - val_flxd_loss_fc: 28.2526 - val_flxu_loss_fc: 8.9815 - val_dfdts_loss_fc: 16.4979\n",
      "Epoch 58/150\n",
      "500/500 [==============================] - 3s 7ms/step - loss: 62.4664 - flxd_loss_fc: 32.3709 - flxu_loss_fc: 12.4967 - dfdts_loss_fc: 17.0070 - val_loss: 61.4601 - val_flxd_loss_fc: 31.8336 - val_flxu_loss_fc: 12.3703 - val_dfdts_loss_fc: 16.6468\n",
      "Epoch 59/150\n",
      "500/500 [==============================] - 3s 7ms/step - loss: 54.3818 - flxd_loss_fc: 30.4178 - flxu_loss_fc: 12.7497 - dfdts_loss_fc: 10.6125 - val_loss: 64.8685 - val_flxd_loss_fc: 32.8188 - val_flxu_loss_fc: 16.2062 - val_dfdts_loss_fc: 15.2341\n",
      "Epoch 60/150\n",
      "500/500 [==============================] - 3s 6ms/step - loss: 52.4098 - flxd_loss_fc: 26.8465 - flxu_loss_fc: 8.4101 - dfdts_loss_fc: 16.5400 - val_loss: 61.8532 - val_flxd_loss_fc: 33.7890 - val_flxu_loss_fc: 15.1902 - val_dfdts_loss_fc: 12.2462\n",
      "Epoch 61/150\n",
      "500/500 [==============================] - 3s 7ms/step - loss: 53.0407 - flxd_loss_fc: 27.1382 - flxu_loss_fc: 8.5950 - dfdts_loss_fc: 16.6696 - val_loss: 126.9128 - val_flxd_loss_fc: 56.9575 - val_flxu_loss_fc: 18.4382 - val_dfdts_loss_fc: 50.8694\n",
      "Epoch 62/150\n",
      "500/500 [==============================] - 3s 6ms/step - loss: 63.2884 - flxd_loss_fc: 32.6169 - flxu_loss_fc: 12.3525 - dfdts_loss_fc: 17.6872 - val_loss: 70.5993 - val_flxd_loss_fc: 38.6192 - val_flxu_loss_fc: 15.2180 - val_dfdts_loss_fc: 16.1364\n",
      "Epoch 63/150\n"
     ]
    },
    {
     "name": "stdout",
     "output_type": "stream",
     "text": [
      "500/500 [==============================] - 3s 7ms/step - loss: 50.7048 - flxd_loss_fc: 26.4852 - flxu_loss_fc: 7.9823 - dfdts_loss_fc: 15.6114 - val_loss: 67.5814 - val_flxd_loss_fc: 32.7350 - val_flxu_loss_fc: 16.5142 - val_dfdts_loss_fc: 17.6943\n",
      "Epoch 64/150\n",
      "500/500 [==============================] - 3s 6ms/step - loss: 44.3064 - flxd_loss_fc: 23.7048 - flxu_loss_fc: 11.5740 - dfdts_loss_fc: 8.4203 - val_loss: 55.4209 - val_flxd_loss_fc: 31.1514 - val_flxu_loss_fc: 12.8013 - val_dfdts_loss_fc: 10.8668\n",
      "Epoch 65/150\n",
      "500/500 [==============================] - 4s 7ms/step - loss: 106.6229 - flxd_loss_fc: 53.8458 - flxu_loss_fc: 16.9171 - dfdts_loss_fc: 35.2693 - val_loss: 108.6311 - val_flxd_loss_fc: 55.4302 - val_flxu_loss_fc: 16.8166 - val_dfdts_loss_fc: 35.7889\n",
      "Epoch 66/150\n",
      "500/500 [==============================] - 3s 6ms/step - loss: 53.3019 - flxd_loss_fc: 29.2662 - flxu_loss_fc: 13.0667 - dfdts_loss_fc: 10.3790 - val_loss: 88.9793 - val_flxd_loss_fc: 39.7107 - val_flxu_loss_fc: 18.7783 - val_dfdts_loss_fc: 29.8966\n",
      "Epoch 67/150\n",
      "500/500 [==============================] - 3s 6ms/step - loss: 52.2407 - flxd_loss_fc: 26.7535 - flxu_loss_fc: 8.4063 - dfdts_loss_fc: 16.4764 - val_loss: 55.6974 - val_flxd_loss_fc: 27.6001 - val_flxu_loss_fc: 8.8838 - val_dfdts_loss_fc: 18.5875\n",
      "Epoch 68/150\n",
      "500/500 [==============================] - 3s 7ms/step - loss: 49.9051 - flxd_loss_fc: 27.1454 - flxu_loss_fc: 12.5879 - dfdts_loss_fc: 9.5543 - val_loss: 53.5331 - val_flxd_loss_fc: 29.4114 - val_flxu_loss_fc: 12.8861 - val_dfdts_loss_fc: 10.6176\n",
      "Epoch 69/150\n",
      "500/500 [==============================] - 3s 6ms/step - loss: 47.9923 - flxd_loss_fc: 26.0257 - flxu_loss_fc: 12.1660 - dfdts_loss_fc: 9.1770 - val_loss: 127.6459 - val_flxd_loss_fc: 59.0280 - val_flxu_loss_fc: 19.3435 - val_dfdts_loss_fc: 48.6414\n",
      "Epoch 70/150\n",
      "500/500 [==============================] - 3s 7ms/step - loss: 37.6312 - flxd_loss_fc: 18.6308 - flxu_loss_fc: 10.1235 - dfdts_loss_fc: 8.2513 - val_loss: 62.6695 - val_flxd_loss_fc: 31.9810 - val_flxu_loss_fc: 15.5026 - val_dfdts_loss_fc: 14.5558\n",
      "Epoch 71/150\n",
      "500/500 [==============================] - 3s 6ms/step - loss: 66.8342 - flxd_loss_fc: 33.7350 - flxu_loss_fc: 12.0811 - dfdts_loss_fc: 20.3943 - val_loss: 123.3817 - val_flxd_loss_fc: 57.5537 - val_flxu_loss_fc: 18.3655 - val_dfdts_loss_fc: 46.8337\n",
      "Epoch 72/150\n",
      "500/500 [==============================] - 3s 6ms/step - loss: 56.4107 - flxd_loss_fc: 29.5389 - flxu_loss_fc: 14.9837 - dfdts_loss_fc: 11.2615 - val_loss: 80.5672 - val_flxd_loss_fc: 36.8595 - val_flxu_loss_fc: 15.8795 - val_dfdts_loss_fc: 27.1916\n",
      "Epoch 73/150\n",
      "500/500 [==============================] - 3s 6ms/step - loss: 53.1291 - flxd_loss_fc: 27.1786 - flxu_loss_fc: 8.4484 - dfdts_loss_fc: 16.8779 - val_loss: 74.5330 - val_flxd_loss_fc: 35.4971 - val_flxu_loss_fc: 14.3756 - val_dfdts_loss_fc: 24.0277\n",
      "Epoch 74/150\n",
      "500/500 [==============================] - 3s 7ms/step - loss: 107.7267 - flxd_loss_fc: 54.9856 - flxu_loss_fc: 16.9914 - dfdts_loss_fc: 35.1261 - val_loss: 83.4596 - val_flxd_loss_fc: 37.5677 - val_flxu_loss_fc: 19.8318 - val_dfdts_loss_fc: 25.4362\n",
      "Epoch 75/150\n",
      "500/500 [==============================] - 3s 6ms/step - loss: 56.1287 - flxd_loss_fc: 28.9592 - flxu_loss_fc: 15.0241 - dfdts_loss_fc: 11.5145 - val_loss: 79.7501 - val_flxd_loss_fc: 37.8016 - val_flxu_loss_fc: 16.1691 - val_dfdts_loss_fc: 25.1391\n",
      "Epoch 76/150\n",
      "500/500 [==============================] - 3s 7ms/step - loss: 45.2624 - flxd_loss_fc: 20.5816 - flxu_loss_fc: 9.6682 - dfdts_loss_fc: 14.4027 - val_loss: 77.2879 - val_flxd_loss_fc: 36.6041 - val_flxu_loss_fc: 13.1641 - val_dfdts_loss_fc: 26.9291\n",
      "Epoch 77/150\n",
      "500/500 [==============================] - 4s 7ms/step - loss: 109.3082 - flxd_loss_fc: 55.9753 - flxu_loss_fc: 17.3707 - dfdts_loss_fc: 35.3936 - val_loss: 80.8592 - val_flxd_loss_fc: 35.2569 - val_flxu_loss_fc: 18.5854 - val_dfdts_loss_fc: 26.4474\n",
      "Epoch 78/150\n",
      "500/500 [==============================] - 4s 7ms/step - loss: 54.7642 - flxd_loss_fc: 28.5949 - flxu_loss_fc: 14.6570 - dfdts_loss_fc: 10.9413 - val_loss: 60.8444 - val_flxd_loss_fc: 34.3237 - val_flxu_loss_fc: 14.8582 - val_dfdts_loss_fc: 11.0828\n",
      "Epoch 79/150\n",
      "500/500 [==============================] - 3s 6ms/step - loss: 36.7024 - flxd_loss_fc: 18.1780 - flxu_loss_fc: 9.9306 - dfdts_loss_fc: 8.0146 - val_loss: 91.2305 - val_flxd_loss_fc: 38.1509 - val_flxu_loss_fc: 17.9761 - val_dfdts_loss_fc: 34.5200\n",
      "Epoch 80/150\n",
      "500/500 [==============================] - 3s 7ms/step - loss: 106.6552 - flxd_loss_fc: 54.8005 - flxu_loss_fc: 16.9467 - dfdts_loss_fc: 34.3330 - val_loss: 77.1468 - val_flxd_loss_fc: 34.9544 - val_flxu_loss_fc: 12.9385 - val_dfdts_loss_fc: 28.6755\n",
      "Epoch 81/150\n",
      "500/500 [==============================] - 3s 7ms/step - loss: 54.7868 - flxd_loss_fc: 30.1299 - flxu_loss_fc: 13.5925 - dfdts_loss_fc: 10.4871 - val_loss: 124.2307 - val_flxd_loss_fc: 56.8962 - val_flxu_loss_fc: 18.5860 - val_dfdts_loss_fc: 48.1667\n",
      "Epoch 82/150\n",
      "500/500 [==============================] - 3s 7ms/step - loss: 72.0329 - flxd_loss_fc: 34.2373 - flxu_loss_fc: 11.9643 - dfdts_loss_fc: 25.2688 - val_loss: 65.9591 - val_flxd_loss_fc: 34.1124 - val_flxu_loss_fc: 16.8501 - val_dfdts_loss_fc: 14.4391\n",
      "Epoch 83/150\n",
      "500/500 [==============================] - 3s 7ms/step - loss: 66.0189 - flxd_loss_fc: 33.6699 - flxu_loss_fc: 12.3638 - dfdts_loss_fc: 19.4193 - val_loss: 62.5626 - val_flxd_loss_fc: 31.7225 - val_flxu_loss_fc: 12.0616 - val_dfdts_loss_fc: 18.1991\n",
      "Epoch 84/150\n",
      "500/500 [==============================] - 3s 7ms/step - loss: 64.8488 - flxd_loss_fc: 32.8422 - flxu_loss_fc: 12.0381 - dfdts_loss_fc: 19.3830 - val_loss: 128.7535 - val_flxd_loss_fc: 57.3721 - val_flxu_loss_fc: 18.4651 - val_dfdts_loss_fc: 52.3238\n",
      "Epoch 85/150\n",
      "500/500 [==============================] - 3s 6ms/step - loss: 52.2661 - flxd_loss_fc: 28.7567 - flxu_loss_fc: 12.9191 - dfdts_loss_fc: 10.0193 - val_loss: 129.7798 - val_flxd_loss_fc: 56.7110 - val_flxu_loss_fc: 18.3696 - val_dfdts_loss_fc: 54.1324\n",
      "Epoch 86/150\n",
      "500/500 [==============================] - 3s 6ms/step - loss: 37.2413 - flxd_loss_fc: 18.3501 - flxu_loss_fc: 10.0687 - dfdts_loss_fc: 8.2478 - val_loss: 135.8496 - val_flxd_loss_fc: 58.1097 - val_flxu_loss_fc: 18.6743 - val_dfdts_loss_fc: 58.4812\n",
      "Epoch 87/150\n",
      "500/500 [==============================] - 3s 7ms/step - loss: 64.3345 - flxd_loss_fc: 32.7620 - flxu_loss_fc: 12.0396 - dfdts_loss_fc: 18.9410 - val_loss: 72.1595 - val_flxd_loss_fc: 33.8382 - val_flxu_loss_fc: 11.3718 - val_dfdts_loss_fc: 26.3463\n",
      "Epoch 88/150\n",
      "500/500 [==============================] - 4s 7ms/step - loss: 57.2149 - flxd_loss_fc: 29.7709 - flxu_loss_fc: 8.8470 - dfdts_loss_fc: 18.0125 - val_loss: 73.3537 - val_flxd_loss_fc: 36.7050 - val_flxu_loss_fc: 14.6559 - val_dfdts_loss_fc: 21.4106\n",
      "Epoch 89/150\n",
      "500/500 [==============================] - 3s 7ms/step - loss: 56.3413 - flxd_loss_fc: 29.5847 - flxu_loss_fc: 15.1960 - dfdts_loss_fc: 10.9823 - val_loss: 60.8557 - val_flxd_loss_fc: 30.8024 - val_flxu_loss_fc: 15.5841 - val_dfdts_loss_fc: 13.8844\n",
      "Epoch 90/150\n",
      "500/500 [==============================] - 4s 7ms/step - loss: 54.9048 - flxd_loss_fc: 28.4338 - flxu_loss_fc: 8.7693 - dfdts_loss_fc: 17.1139 - val_loss: 56.9604 - val_flxd_loss_fc: 27.4713 - val_flxu_loss_fc: 9.0517 - val_dfdts_loss_fc: 19.8410\n",
      "Epoch 91/150\n",
      "500/500 [==============================] - 3s 7ms/step - loss: 53.3332 - flxd_loss_fc: 28.0204 - flxu_loss_fc: 8.2549 - dfdts_loss_fc: 16.4576 - val_loss: 54.2207 - val_flxd_loss_fc: 28.1282 - val_flxu_loss_fc: 9.0560 - val_dfdts_loss_fc: 16.4333\n",
      "Epoch 92/150\n",
      "500/500 [==============================] - 3s 7ms/step - loss: 107.7351 - flxd_loss_fc: 55.8084 - flxu_loss_fc: 17.5469 - dfdts_loss_fc: 33.8082 - val_loss: 66.8076 - val_flxd_loss_fc: 32.4006 - val_flxu_loss_fc: 12.2403 - val_dfdts_loss_fc: 21.6054\n",
      "Epoch 93/150\n",
      "500/500 [==============================] - 3s 6ms/step - loss: 56.5187 - flxd_loss_fc: 29.4389 - flxu_loss_fc: 15.2067 - dfdts_loss_fc: 11.3088 - val_loss: 61.5042 - val_flxd_loss_fc: 33.2681 - val_flxu_loss_fc: 15.3549 - val_dfdts_loss_fc: 12.3078\n",
      "Epoch 94/150\n"
     ]
    },
    {
     "name": "stdout",
     "output_type": "stream",
     "text": [
      "500/500 [==============================] - 3s 6ms/step - loss: 64.6818 - flxd_loss_fc: 33.2188 - flxu_loss_fc: 12.0595 - dfdts_loss_fc: 18.8332 - val_loss: 65.6169 - val_flxd_loss_fc: 36.2653 - val_flxu_loss_fc: 15.4985 - val_dfdts_loss_fc: 13.2761\n",
      "Epoch 95/150\n",
      "500/500 [==============================] - 3s 7ms/step - loss: 55.1789 - flxd_loss_fc: 29.0154 - flxu_loss_fc: 8.8738 - dfdts_loss_fc: 16.7162 - val_loss: 66.3206 - val_flxd_loss_fc: 32.4243 - val_flxu_loss_fc: 16.3123 - val_dfdts_loss_fc: 17.0020\n",
      "Epoch 96/150\n",
      "500/500 [==============================] - 3s 6ms/step - loss: 52.9271 - flxd_loss_fc: 27.7297 - flxu_loss_fc: 8.5468 - dfdts_loss_fc: 16.0596 - val_loss: 73.3649 - val_flxd_loss_fc: 33.9758 - val_flxu_loss_fc: 16.8949 - val_dfdts_loss_fc: 21.8949\n",
      "Epoch 97/150\n",
      "500/500 [==============================] - 3s 6ms/step - loss: 59.1733 - flxd_loss_fc: 30.3656 - flxu_loss_fc: 15.5445 - dfdts_loss_fc: 12.6828 - val_loss: 70.6293 - val_flxd_loss_fc: 32.2478 - val_flxu_loss_fc: 11.5551 - val_dfdts_loss_fc: 26.2436\n",
      "Epoch 98/150\n",
      "500/500 [==============================] - 3s 6ms/step - loss: 108.9353 - flxd_loss_fc: 55.7965 - flxu_loss_fc: 17.6590 - dfdts_loss_fc: 34.9227 - val_loss: 66.0688 - val_flxd_loss_fc: 32.7845 - val_flxu_loss_fc: 11.4279 - val_dfdts_loss_fc: 21.3025\n",
      "Epoch 99/150\n",
      "500/500 [==============================] - 3s 7ms/step - loss: 54.8526 - flxd_loss_fc: 28.8976 - flxu_loss_fc: 8.5599 - dfdts_loss_fc: 16.8319 - val_loss: 76.0367 - val_flxd_loss_fc: 36.9022 - val_flxu_loss_fc: 15.5704 - val_dfdts_loss_fc: 22.9878\n",
      "Epoch 100/150\n",
      "500/500 [==============================] - 3s 7ms/step - loss: 105.8242 - flxd_loss_fc: 55.1812 - flxu_loss_fc: 17.1260 - dfdts_loss_fc: 32.9529 - val_loss: 103.9178 - val_flxd_loss_fc: 55.0736 - val_flxu_loss_fc: 16.8342 - val_dfdts_loss_fc: 31.4428\n",
      "Epoch 101/150\n",
      "500/500 [==============================] - 3s 6ms/step - loss: 65.5774 - flxd_loss_fc: 33.9859 - flxu_loss_fc: 12.6832 - dfdts_loss_fc: 18.3331 - val_loss: 66.5911 - val_flxd_loss_fc: 32.7438 - val_flxu_loss_fc: 10.4274 - val_dfdts_loss_fc: 22.8348\n",
      "Epoch 102/150\n",
      "500/500 [==============================] - 3s 7ms/step - loss: 29.2759 - flxd_loss_fc: 14.4805 - flxu_loss_fc: 7.8843 - dfdts_loss_fc: 6.3617 - val_loss: 133.5570 - val_flxd_loss_fc: 57.7667 - val_flxu_loss_fc: 19.5891 - val_dfdts_loss_fc: 55.6619\n",
      "Epoch 103/150\n",
      "500/500 [==============================] - 3s 6ms/step - loss: 43.8549 - flxd_loss_fc: 23.7506 - flxu_loss_fc: 11.5193 - dfdts_loss_fc: 8.0444 - val_loss: 126.6152 - val_flxd_loss_fc: 57.4178 - val_flxu_loss_fc: 19.2587 - val_dfdts_loss_fc: 49.3894\n",
      "Epoch 104/150\n",
      "500/500 [==============================] - 3s 6ms/step - loss: 65.2236 - flxd_loss_fc: 33.0758 - flxu_loss_fc: 11.9015 - dfdts_loss_fc: 19.6902 - val_loss: 70.7530 - val_flxd_loss_fc: 32.2380 - val_flxu_loss_fc: 10.3747 - val_dfdts_loss_fc: 27.5734\n",
      "Epoch 105/150\n",
      "500/500 [==============================] - 3s 7ms/step - loss: 62.5675 - flxd_loss_fc: 31.7490 - flxu_loss_fc: 11.9174 - dfdts_loss_fc: 18.3219 - val_loss: 123.6877 - val_flxd_loss_fc: 58.0254 - val_flxu_loss_fc: 19.1274 - val_dfdts_loss_fc: 45.9439\n",
      "Epoch 106/150\n",
      "500/500 [==============================] - 4s 7ms/step - loss: 56.8935 - flxd_loss_fc: 29.7021 - flxu_loss_fc: 8.5467 - dfdts_loss_fc: 18.0693 - val_loss: 68.0579 - val_flxd_loss_fc: 34.9128 - val_flxu_loss_fc: 15.0167 - val_dfdts_loss_fc: 17.5528\n",
      "Epoch 107/150\n",
      "500/500 [==============================] - 4s 7ms/step - loss: 50.5509 - flxd_loss_fc: 27.5129 - flxu_loss_fc: 12.6633 - dfdts_loss_fc: 9.7943 - val_loss: 76.3051 - val_flxd_loss_fc: 35.8719 - val_flxu_loss_fc: 14.5915 - val_dfdts_loss_fc: 25.2606\n",
      "Epoch 108/150\n",
      "500/500 [==============================] - 3s 7ms/step - loss: 110.0746 - flxd_loss_fc: 55.2629 - flxu_loss_fc: 17.5083 - dfdts_loss_fc: 36.7561 - val_loss: 65.6800 - val_flxd_loss_fc: 33.6438 - val_flxu_loss_fc: 17.6462 - val_dfdts_loss_fc: 13.8530\n",
      "Epoch 109/150\n",
      "500/500 [==============================] - 3s 7ms/step - loss: 65.0760 - flxd_loss_fc: 33.1658 - flxu_loss_fc: 12.3742 - dfdts_loss_fc: 18.9834 - val_loss: 65.4506 - val_flxd_loss_fc: 36.3801 - val_flxu_loss_fc: 15.0213 - val_dfdts_loss_fc: 13.4833\n",
      "Epoch 110/150\n",
      "500/500 [==============================] - 4s 7ms/step - loss: 57.2072 - flxd_loss_fc: 29.5456 - flxu_loss_fc: 15.1604 - dfdts_loss_fc: 11.9440 - val_loss: 112.8687 - val_flxd_loss_fc: 37.1789 - val_flxu_loss_fc: 16.3596 - val_dfdts_loss_fc: 58.7698\n",
      "Epoch 111/150\n",
      "500/500 [==============================] - 3s 6ms/step - loss: 44.0601 - flxd_loss_fc: 23.4191 - flxu_loss_fc: 11.9120 - dfdts_loss_fc: 8.1654 - val_loss: 67.6025 - val_flxd_loss_fc: 30.4743 - val_flxu_loss_fc: 10.2359 - val_dfdts_loss_fc: 26.3272\n",
      "Epoch 112/150\n",
      "500/500 [==============================] - 3s 6ms/step - loss: 57.7404 - flxd_loss_fc: 29.2262 - flxu_loss_fc: 8.6276 - dfdts_loss_fc: 19.3291 - val_loss: 73.9698 - val_flxd_loss_fc: 37.6293 - val_flxu_loss_fc: 14.9199 - val_dfdts_loss_fc: 20.8620\n",
      "Epoch 113/150\n",
      "500/500 [==============================] - 3s 6ms/step - loss: 108.7617 - flxd_loss_fc: 55.2191 - flxu_loss_fc: 17.1881 - dfdts_loss_fc: 35.8226 - val_loss: 80.8819 - val_flxd_loss_fc: 32.3835 - val_flxu_loss_fc: 9.9116 - val_dfdts_loss_fc: 38.0590\n",
      "Epoch 114/150\n",
      "500/500 [==============================] - 3s 7ms/step - loss: 53.8796 - flxd_loss_fc: 28.2372 - flxu_loss_fc: 14.4524 - dfdts_loss_fc: 10.6485 - val_loss: 58.1172 - val_flxd_loss_fc: 29.4495 - val_flxu_loss_fc: 14.8227 - val_dfdts_loss_fc: 13.2904\n",
      "Epoch 115/150\n",
      "500/500 [==============================] - 3s 6ms/step - loss: 52.9869 - flxd_loss_fc: 29.0999 - flxu_loss_fc: 13.1613 - dfdts_loss_fc: 10.1810 - val_loss: 66.6027 - val_flxd_loss_fc: 31.3005 - val_flxu_loss_fc: 11.2736 - val_dfdts_loss_fc: 23.4875\n",
      "Epoch 116/150\n",
      "500/500 [==============================] - 3s 6ms/step - loss: 44.8835 - flxd_loss_fc: 20.6633 - flxu_loss_fc: 9.5271 - dfdts_loss_fc: 14.1511 - val_loss: 74.5567 - val_flxd_loss_fc: 42.1818 - val_flxu_loss_fc: 17.0725 - val_dfdts_loss_fc: 14.7527\n",
      "Epoch 117/150\n",
      "500/500 [==============================] - 3s 7ms/step - loss: 53.3702 - flxd_loss_fc: 27.4504 - flxu_loss_fc: 8.7022 - dfdts_loss_fc: 16.6751 - val_loss: 129.1235 - val_flxd_loss_fc: 58.2693 - val_flxu_loss_fc: 17.9583 - val_dfdts_loss_fc: 52.3445\n",
      "Epoch 118/150\n",
      "500/500 [==============================] - 3s 7ms/step - loss: 64.0255 - flxd_loss_fc: 32.9722 - flxu_loss_fc: 12.0842 - dfdts_loss_fc: 18.4155 - val_loss: 136.5561 - val_flxd_loss_fc: 57.6043 - val_flxu_loss_fc: 18.0027 - val_dfdts_loss_fc: 60.3915\n",
      "Epoch 119/150\n",
      "500/500 [==============================] - 3s 6ms/step - loss: 58.6784 - flxd_loss_fc: 30.0862 - flxu_loss_fc: 15.1495 - dfdts_loss_fc: 12.8854 - val_loss: 122.2675 - val_flxd_loss_fc: 57.2773 - val_flxu_loss_fc: 17.8546 - val_dfdts_loss_fc: 46.5649\n",
      "Epoch 120/150\n",
      "500/500 [==============================] - 3s 7ms/step - loss: 49.8080 - flxd_loss_fc: 27.2222 - flxu_loss_fc: 12.6609 - dfdts_loss_fc: 9.3509 - val_loss: 55.1735 - val_flxd_loss_fc: 30.3840 - val_flxu_loss_fc: 13.2222 - val_dfdts_loss_fc: 10.9898\n",
      "Epoch 121/150\n",
      "500/500 [==============================] - 3s 6ms/step - loss: 53.3310 - flxd_loss_fc: 27.4368 - flxu_loss_fc: 8.5171 - dfdts_loss_fc: 16.8172 - val_loss: 55.8201 - val_flxd_loss_fc: 28.0586 - val_flxu_loss_fc: 9.2133 - val_dfdts_loss_fc: 17.9831\n",
      "Epoch 122/150\n",
      "500/500 [==============================] - 3s 7ms/step - loss: 37.4552 - flxd_loss_fc: 18.5622 - flxu_loss_fc: 10.1758 - dfdts_loss_fc: 8.1547 - val_loss: 99.6712 - val_flxd_loss_fc: 37.3480 - val_flxu_loss_fc: 18.3216 - val_dfdts_loss_fc: 43.4314\n",
      "Epoch 123/150\n",
      "500/500 [==============================] - 3s 6ms/step - loss: 52.8067 - flxd_loss_fc: 27.5757 - flxu_loss_fc: 14.2263 - dfdts_loss_fc: 10.4228 - val_loss: 62.0893 - val_flxd_loss_fc: 32.2313 - val_flxu_loss_fc: 14.6636 - val_dfdts_loss_fc: 14.6001\n",
      "Epoch 124/150\n",
      "500/500 [==============================] - 4s 7ms/step - loss: 54.5254 - flxd_loss_fc: 28.1874 - flxu_loss_fc: 14.8314 - dfdts_loss_fc: 10.9067 - val_loss: 58.1288 - val_flxd_loss_fc: 29.1969 - val_flxu_loss_fc: 14.9532 - val_dfdts_loss_fc: 13.3720\n",
      "Epoch 125/150\n"
     ]
    },
    {
     "name": "stdout",
     "output_type": "stream",
     "text": [
      "500/500 [==============================] - 3s 6ms/step - loss: 53.0273 - flxd_loss_fc: 29.3013 - flxu_loss_fc: 13.0944 - dfdts_loss_fc: 10.0276 - val_loss: 105.9023 - val_flxd_loss_fc: 41.5603 - val_flxu_loss_fc: 21.5015 - val_dfdts_loss_fc: 42.2377\n",
      "Epoch 126/150\n",
      "500/500 [==============================] - 3s 6ms/step - loss: 34.8748 - flxd_loss_fc: 16.5065 - flxu_loss_fc: 6.4637 - dfdts_loss_fc: 11.3109 - val_loss: 72.0867 - val_flxd_loss_fc: 36.1221 - val_flxu_loss_fc: 16.1945 - val_dfdts_loss_fc: 19.1664\n",
      "Epoch 127/150\n",
      "500/500 [==============================] - 3s 6ms/step - loss: 111.3227 - flxd_loss_fc: 56.1699 - flxu_loss_fc: 17.6140 - dfdts_loss_fc: 36.9659 - val_loss: 78.7359 - val_flxd_loss_fc: 38.0286 - val_flxu_loss_fc: 17.8757 - val_dfdts_loss_fc: 22.2737\n",
      "Epoch 128/150\n",
      "500/500 [==============================] - 3s 6ms/step - loss: 58.3543 - flxd_loss_fc: 30.2280 - flxu_loss_fc: 15.2031 - dfdts_loss_fc: 12.3670 - val_loss: 106.0738 - val_flxd_loss_fc: 40.6824 - val_flxu_loss_fc: 22.9067 - val_dfdts_loss_fc: 41.9255\n",
      "Epoch 129/150\n",
      "500/500 [==============================] - 3s 7ms/step - loss: 54.6565 - flxd_loss_fc: 28.7284 - flxu_loss_fc: 14.8405 - dfdts_loss_fc: 10.5163 - val_loss: 60.8001 - val_flxd_loss_fc: 30.3841 - val_flxu_loss_fc: 15.4973 - val_dfdts_loss_fc: 14.3318\n",
      "Epoch 130/150\n",
      "500/500 [==============================] - 3s 6ms/step - loss: 107.5862 - flxd_loss_fc: 54.8810 - flxu_loss_fc: 16.9272 - dfdts_loss_fc: 35.2053 - val_loss: 65.6207 - val_flxd_loss_fc: 32.4016 - val_flxu_loss_fc: 16.5810 - val_dfdts_loss_fc: 16.0702\n",
      "Epoch 131/150\n",
      "500/500 [==============================] - 3s 6ms/step - loss: 56.2139 - flxd_loss_fc: 29.3810 - flxu_loss_fc: 15.1520 - dfdts_loss_fc: 11.1101 - val_loss: 73.0772 - val_flxd_loss_fc: 33.2876 - val_flxu_loss_fc: 10.4142 - val_dfdts_loss_fc: 28.7971\n",
      "Epoch 132/150\n",
      "500/500 [==============================] - 3s 6ms/step - loss: 56.3517 - flxd_loss_fc: 29.0180 - flxu_loss_fc: 9.2979 - dfdts_loss_fc: 17.4695 - val_loss: 76.5100 - val_flxd_loss_fc: 37.4530 - val_flxu_loss_fc: 15.6219 - val_dfdts_loss_fc: 22.8692\n",
      "Epoch 133/150\n",
      "500/500 [==============================] - 3s 6ms/step - loss: 45.1216 - flxd_loss_fc: 24.4206 - flxu_loss_fc: 11.9751 - dfdts_loss_fc: 8.1831 - val_loss: 62.9992 - val_flxd_loss_fc: 31.8978 - val_flxu_loss_fc: 15.9062 - val_dfdts_loss_fc: 14.6607\n",
      "Epoch 134/150\n",
      "500/500 [==============================] - 3s 6ms/step - loss: 28.2431 - flxd_loss_fc: 14.0216 - flxu_loss_fc: 7.5775 - dfdts_loss_fc: 6.1107 - val_loss: 62.5451 - val_flxd_loss_fc: 33.7867 - val_flxu_loss_fc: 14.1894 - val_dfdts_loss_fc: 14.0332\n",
      "Epoch 135/150\n",
      "500/500 [==============================] - 3s 6ms/step - loss: 110.5027 - flxd_loss_fc: 55.3411 - flxu_loss_fc: 17.2398 - dfdts_loss_fc: 37.3971 - val_loss: 83.5230 - val_flxd_loss_fc: 37.4154 - val_flxu_loss_fc: 17.2699 - val_dfdts_loss_fc: 28.3155\n",
      "Epoch 136/150\n",
      "500/500 [==============================] - 3s 7ms/step - loss: 107.0747 - flxd_loss_fc: 54.7096 - flxu_loss_fc: 16.6984 - dfdts_loss_fc: 35.1397 - val_loss: 108.8153 - val_flxd_loss_fc: 55.5250 - val_flxu_loss_fc: 16.9506 - val_dfdts_loss_fc: 35.8059\n",
      "Epoch 137/150\n",
      "500/500 [==============================] - 3s 6ms/step - loss: 45.4107 - flxd_loss_fc: 24.6480 - flxu_loss_fc: 12.2238 - dfdts_loss_fc: 8.0328 - val_loss: 57.5169 - val_flxd_loss_fc: 32.3800 - val_flxu_loss_fc: 13.7180 - val_dfdts_loss_fc: 10.9104\n",
      "Epoch 138/150\n",
      "500/500 [==============================] - 3s 6ms/step - loss: 54.4292 - flxd_loss_fc: 30.3224 - flxu_loss_fc: 13.2456 - dfdts_loss_fc: 10.3381 - val_loss: 64.4532 - val_flxd_loss_fc: 31.9378 - val_flxu_loss_fc: 15.6519 - val_dfdts_loss_fc: 16.3269\n",
      "Epoch 139/150\n",
      "500/500 [==============================] - 3s 7ms/step - loss: 68.3318 - flxd_loss_fc: 34.1476 - flxu_loss_fc: 12.2947 - dfdts_loss_fc: 21.3716 - val_loss: 125.3787 - val_flxd_loss_fc: 59.1578 - val_flxu_loss_fc: 18.7891 - val_dfdts_loss_fc: 46.9243\n",
      "Epoch 140/150\n",
      "500/500 [==============================] - 3s 6ms/step - loss: 37.9218 - flxd_loss_fc: 18.5743 - flxu_loss_fc: 10.1785 - dfdts_loss_fc: 8.6674 - val_loss: 64.1189 - val_flxd_loss_fc: 36.0361 - val_flxu_loss_fc: 14.6537 - val_dfdts_loss_fc: 12.9200\n",
      "Epoch 141/150\n",
      "500/500 [==============================] - 3s 6ms/step - loss: 43.9326 - flxd_loss_fc: 23.6691 - flxu_loss_fc: 11.6540 - dfdts_loss_fc: 8.0998 - val_loss: 61.3678 - val_flxd_loss_fc: 30.8262 - val_flxu_loss_fc: 15.9173 - val_dfdts_loss_fc: 14.1116\n",
      "Epoch 142/150\n",
      "500/500 [==============================] - 3s 6ms/step - loss: 55.8093 - flxd_loss_fc: 28.9531 - flxu_loss_fc: 14.8613 - dfdts_loss_fc: 11.4760 - val_loss: 74.9416 - val_flxd_loss_fc: 35.6498 - val_flxu_loss_fc: 15.4495 - val_dfdts_loss_fc: 23.3096\n",
      "Epoch 143/150\n",
      "500/500 [==============================] - 3s 7ms/step - loss: 109.8761 - flxd_loss_fc: 54.7408 - flxu_loss_fc: 17.2560 - dfdts_loss_fc: 37.3576 - val_loss: 108.8635 - val_flxd_loss_fc: 55.2313 - val_flxu_loss_fc: 16.7562 - val_dfdts_loss_fc: 36.3516\n",
      "Epoch 144/150\n",
      "500/500 [==============================] - 3s 7ms/step - loss: 51.1105 - flxd_loss_fc: 27.8196 - flxu_loss_fc: 13.0030 - dfdts_loss_fc: 9.7678 - val_loss: 71.6991 - val_flxd_loss_fc: 33.3221 - val_flxu_loss_fc: 14.8046 - val_dfdts_loss_fc: 23.0453\n",
      "Epoch 145/150\n",
      "500/500 [==============================] - 3s 7ms/step - loss: 53.6072 - flxd_loss_fc: 28.0395 - flxu_loss_fc: 14.5753 - dfdts_loss_fc: 10.4495 - val_loss: 60.9858 - val_flxd_loss_fc: 33.2752 - val_flxu_loss_fc: 15.6047 - val_dfdts_loss_fc: 11.5509\n",
      "Epoch 146/150\n",
      "500/500 [==============================] - 3s 7ms/step - loss: 36.6806 - flxd_loss_fc: 18.2119 - flxu_loss_fc: 10.0291 - dfdts_loss_fc: 7.8832 - val_loss: 89.8974 - val_flxd_loss_fc: 36.8307 - val_flxu_loss_fc: 16.2457 - val_dfdts_loss_fc: 36.2604\n",
      "Epoch 147/150\n",
      "500/500 [==============================] - 3s 7ms/step - loss: 65.8421 - flxd_loss_fc: 32.8669 - flxu_loss_fc: 12.4784 - dfdts_loss_fc: 19.9356 - val_loss: 120.2613 - val_flxd_loss_fc: 57.8262 - val_flxu_loss_fc: 18.7377 - val_dfdts_loss_fc: 43.1355\n",
      "Epoch 148/150\n",
      "500/500 [==============================] - 3s 6ms/step - loss: 63.3621 - flxd_loss_fc: 32.0505 - flxu_loss_fc: 12.0831 - dfdts_loss_fc: 18.6647 - val_loss: 115.3415 - val_flxd_loss_fc: 56.7716 - val_flxu_loss_fc: 18.5612 - val_dfdts_loss_fc: 39.4417\n",
      "Epoch 149/150\n",
      "500/500 [==============================] - 3s 6ms/step - loss: 56.4788 - flxd_loss_fc: 29.2439 - flxu_loss_fc: 15.0465 - dfdts_loss_fc: 11.6222 - val_loss: 60.8632 - val_flxd_loss_fc: 33.4209 - val_flxu_loss_fc: 14.8908 - val_dfdts_loss_fc: 11.9773\n",
      "Epoch 150/150\n",
      "500/500 [==============================] - 3s 6ms/step - loss: 110.4246 - flxd_loss_fc: 55.4197 - flxu_loss_fc: 17.3711 - dfdts_loss_fc: 37.0801 - val_loss: 71.0839 - val_flxd_loss_fc: 35.6178 - val_flxu_loss_fc: 16.8895 - val_dfdts_loss_fc: 18.0262\n"
     ]
    }
   ],
   "source": [
    "history = M.fit_generator(generator=train_generator ,\n",
    "                    validation_data=validation_generator,\n",
    "                             shuffle=False,\n",
    "                               callbacks = [LH],\n",
    "                               epochs=150,\n",
    "                               verbose=1)"
   ]
  },
  {
   "cell_type": "code",
   "execution_count": 16,
   "metadata": {},
   "outputs": [
    {
     "name": "stdout",
     "output_type": "stream",
     "text": [
      "4 0 3\n"
     ]
    }
   ],
   "source": [
    "print(train_generator.current_file,train_generator.current_b, train_generator.current_folder)"
   ]
  },
  {
   "cell_type": "code",
   "execution_count": 21,
   "metadata": {},
   "outputs": [],
   "source": [
    "M.save(  os.path.join(model_folder, prefix+archi+'.h5')  )\n",
    "Generate_Log([M], history, LH, os.path.join(log_folder,prefix+archi+'.txt'), seed)"
   ]
  },
  {
   "cell_type": "code",
   "execution_count": 22,
   "metadata": {},
   "outputs": [
    {
     "data": {
      "image/png": "[encoded data removed]",
      "text/plain": [
       "<Figure size 432x288 with 1 Axes>"
      ]
     },
     "metadata": {
      "needs_background": "light"
     },
     "output_type": "display_data"
    }
   ],
   "source": [
    "plt.yscale('log')\n",
    "plt.plot(history.history['val_loss'])\n",
    "plt.plot(history.history['loss'])\n",
    "plt.legend(['val', 'train'])\n",
    "plt.show();"
   ]
  },
  {
   "cell_type": "code",
   "execution_count": 11,
   "metadata": {},
   "outputs": [
    {
     "data": {
      "text/plain": [
       "dict_keys(['val_loss', 'val_flxd_loss_fc', 'val_flxu_loss_fc', 'val_dfdts_loss_fc', 'loss', 'flxd_loss_fc', 'flxu_loss_fc', 'dfdts_loss_fc'])"
      ]
     },
     "execution_count": 11,
     "metadata": {},
     "output_type": "execute_result"
    }
   ],
   "source": []
  },
  {
   "cell_type": "markdown",
   "metadata": {},
   "source": [
    "### ANALYSIS :"
   ]
  },
  {
   "cell_type": "code",
   "execution_count": null,
   "metadata": {},
   "outputs": [],
   "source": [
    "from contextlib import redirect_stdout\n",
    "with open(os.path.join(log_folder, prefix), 'w') as f:\n",
    "    with redirect_stdout(f):\n",
    "        print('Seed {}'.format(seed))\n",
    "        modelbd2.summary()\n",
    "        modelbd.summary()\n",
    "        for loss in FP:\n",
    "            print(loss)\n",
    "        print(history.history)"
   ]
  },
  {
   "cell_type": "markdown",
   "metadata": {},
   "source": [
    "### VISUALISATION"
   ]
  },
  {
   "cell_type": "code",
   "execution_count": 2,
   "metadata": {},
   "outputs": [],
   "source": [
    "# FCT PLOT\n",
    "def Show_triple_diff(y,y0):\n",
    "    j = 50 #np.random.randint(0)\n",
    "    f = plt.figure( figsize=(15,8)   )\n",
    "    ax = plt.subplot(131)\n",
    "    lev= 35\n",
    "    plt.plot(np.flip(y[:,:,0].T[:lev,j]) , np.arange(lev));\n",
    "    plt.plot(np.flip(y0[:,:,0].T[:lev,j]) , np.arange(lev));\n",
    "    ax.legend([\"truth\", \"pred\"])\n",
    "    ax = plt.subplot(132)\n",
    "    plt.plot(np.flip(y[:,:,1].T[:,j]) , np.arange(72));\n",
    "    plt.plot(np.flip(y0[:,:,1].T[:,j]) , np.arange(72));\n",
    "    ax.legend([\"truth\", \"pred\"])\n",
    "    ax = plt.subplot(133)\n",
    "    plt.plot(np.flip(y[:,:,2].T[:,j]) , np.arange(72));\n",
    "    plt.plot(np.flip(y0[:,:,2].T[:,j]) , np.arange(72));\n",
    "    ax.legend([\"truth\", \"pred\"])\n",
    "\n",
    "def Difference(y,y0):\n",
    "#    y_cumsum = np.cumsum(y[i])\n",
    "#    y0_cumsum = np.cumsum(y0)\n",
    "    return(  np.mean(np.square(y-y0)))\n",
    "\n",
    "def Compare(y,y0, i=0):\n",
    "    f=plt.figure( figsize=(15,8), dpi=80)\n",
    "    ax= f.add_subplot(1,2,1)\n",
    "    ax.plot(np.flip(y0[i]), np.arange(len(y0[i]))) \n",
    "    ax.plot(np.flip(y[i]), np.arange(len(y0[i]))) \n",
    "    ax.legend([\"y pred\", 'y truth'])\n",
    "#    ax.title(\"Diff\")\n",
    "    y_cumsum = np.cumsum(y[i])\n",
    "    y0_cumsum = np.cumsum(y0[i])\n",
    "    ax= f.add_subplot(1,2,2)\n",
    "    ax.plot(np.flip(y0_cumsum), np.arange(len(y0[i])))        \n",
    "    ax.plot(np.flip(y_cumsum), np.arange(len(y0[i])))        \n",
    "    ax.legend([\"y pred\", 'y truth'])\n",
    "#    ax.title(\"Cumulative\")\n",
    "    plt.show()\n",
    "\n",
    "def eliminate_var(m,x):\n",
    "    O = []\n",
    "    for i in range(11):\n",
    "        x0= x.copy()\n",
    "        x0*=0\n",
    "        x0[:,:,i]=x[:,:,i]\n",
    "        O.append(modelbd.predict(x0))\n",
    "    return(O)\n",
    "\n",
    "def Plot_Predictions(O, y, header):\n",
    "    f=plt.figure( figsize=(15,10), dpi=80)\n",
    "    for i,y0 in enumerate(O):\n",
    "        ax= f.add_subplot(3,4,i+1)\n",
    "        ax.set_title(header[i])\n",
    "        for b in range(y0.shape[0]):\n",
    "            ax.plot(np.flip(y0[b]), np.arange(len(y0[b])))\n",
    "    ax= f.add_subplot(3,4,12)\n",
    "    ax.set_title('flx')\n",
    "    for b in range(y0.shape[0]):\n",
    "        ax.plot(np.flip(y[b]), np.arange(len(y[b])))\n",
    "\n",
    "def Normal2(x,header):\n",
    "    O1 = []#['fcld', 'q','qi','ql','rl','ri']\n",
    "    N = [ 'pl']\n",
    "    STD = []\n",
    "    STD2 = []\n",
    "    for i, h in enumerate(header):\n",
    "        if h in O1:\n",
    "            x[:,:,i] = np.max(x[:,:,i], axis=1).reshape(x.shape[0],1)\n",
    "        if h in N:\n",
    "            #print(h, np.mean(x[:,:,i], axis=0)[32])\n",
    "            x[:,:,i] -= np.mean(x[:,:,i], axis=0)\n",
    "        if h in STD:\n",
    "            x[:,:,i] /= (x[:,-1,i]+0.000000001).reshape(-1,1)         \n",
    "        if h in STD2:\n",
    "            x[:,:,i] /= (x[:,0,i]+0.000000001).reshape(-1,1)         \n",
    "    return(x)\n"
   ]
  },
  {
   "cell_type": "markdown",
   "metadata": {},
   "source": [
    "### SECOND ARCHITECTURE :\n",
    "Not tested yet"
   ]
  },
  {
   "cell_type": "markdown",
   "metadata": {},
   "source": [
    "# III) TRACKS "
   ]
  },
  {
   "cell_type": "markdown",
   "metadata": {},
   "source": [
    "### MODEL 2 :\n",
    "\n",
    "- FCNN\n",
    "- (with AE)"
   ]
  },
  {
   "cell_type": "markdown",
   "metadata": {},
   "source": [
    "##### MODEL 2 : FCM-Final FC"
   ]
  },
  {
   "cell_type": "markdown",
   "metadata": {},
   "source": [
    "##### MODEL 2 : U-net :\n",
    "- use regular U-net so all layers affect each other and more stability"
   ]
  },
  {
   "cell_type": "markdown",
   "metadata": {},
   "source": [
    "### MODEL 3 : Bidir-LSTM \n",
    "> Possible alternatives\n",
    "\n",
    "- use two LSTM to show both impact of superior and inferior layer\n",
    "- use attention model over it\n",
    "- use w embeddings before\n",
    "\n",
    "> TD\n",
    "\n",
    "- Read git trez\n",
    "- Read article of Hedge fun"
   ]
  }
 ],
 "metadata": {
  "kernelspec": {
   "display_name": "Python 3",
   "language": "python",
   "name": "python3"
  },
  "language_info": {
   "codemirror_mode": {
    "name": "ipython",
    "version": 3
   },
   "file_extension": ".py",
   "mimetype": "text/x-python",
   "name": "python",
   "nbconvert_exporter": "python",
   "pygments_lexer": "ipython3",
   "version": "3.6.7"
  }
 },
 "nbformat": 4,
 "nbformat_minor": 2
}
