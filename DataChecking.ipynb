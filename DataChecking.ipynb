{
 "cells": [
  {
   "cell_type": "code",
   "execution_count": 1,
   "metadata": {},
   "outputs": [
    {
     "name": "stdout",
     "output_type": "stream",
     "text": [
      "Xdim (720,)\n",
      "Ydim (4320,)\n",
      "lons (4320, 720)\n",
      "lats (4320, 720)\n",
      "lev (72,)\n",
      "time (1,)\n",
      "emis (1, 4320, 720)\n",
      "fcld (1, 72, 4320, 720)\n",
      "o3 (1, 72, 4320, 720)\n",
      "pl (1, 72, 4320, 720)\n",
      "q (1, 72, 4320, 720)\n",
      "qi (1, 72, 4320, 720)\n",
      "ql (1, 72, 4320, 720)\n",
      "ri (1, 72, 4320, 720)\n",
      "rl (1, 72, 4320, 720)\n",
      "t (1, 72, 4320, 720)\n",
      "ts (1, 4320, 720)\n"
     ]
    }
   ],
   "source": [
    "from netCDF4 import Dataset\n",
    "import numpy as np\n",
    "fin = Dataset('f522_dh.trainingdata_in.lcv.20190401_0000z.nc4') \n",
    "fout = Dataset('f522_dh.trainingdata_out.lcv.20190401_0000z.nc4')\n",
    "x = fin.variables\n",
    "y = fout.variables\n",
    "for var in x.keys():\n",
    "    print(var, x[var].shape)\n",
    "    \n",
    "n   = x['Xdim'].shape[0]    \n",
    "p   = x['Ydim'].shape[0]"
   ]
  },
  {
   "cell_type": "code",
   "execution_count": null,
   "metadata": {},
   "outputs": [],
   "source": []
  },
  {
   "cell_type": "code",
   "execution_count": 2,
   "metadata": {},
   "outputs": [
    {
     "data": {
      "text/plain": [
       "<Figure size 640x480 with 1 Axes>"
      ]
     },
     "metadata": {},
     "output_type": "display_data"
    }
   ],
   "source": [
    "import matplotlib.pyplot as plt\n",
    "import matplotlib.cm as cm\n",
    "from matplotlib.pyplot import figure\n",
    "\n",
    "idx = int(np.random.random()*n)\n",
    "idy = int(np.random.random()*p)\n",
    "\n",
    "plt.plot(y[\"flx\"][0,:,idy,idx])\n",
    "plt.show()"
   ]
  },
  {
   "cell_type": "code",
   "execution_count": 121,
   "metadata": {},
   "outputs": [],
   "source": []
  },
  {
   "cell_type": "code",
   "execution_count": 123,
   "metadata": {},
   "outputs": [
    {
     "data": {
      "text/plain": [
       "86.98259"
      ]
     },
     "execution_count": 123,
     "metadata": {},
     "output_type": "execute_result"
    }
   ],
   "source": []
  },
  {
   "cell_type": "code",
   "execution_count": 77,
   "metadata": {},
   "outputs": [
    {
     "name": "stdout",
     "output_type": "stream",
     "text": [
      "664 3685\n"
     ]
    },
    {
     "data": {
      "image/png": "[encoded data removed]",
      "text/plain": [
       "<Figure size 432x288 with 1 Axes>"
      ]
     },
     "metadata": {
      "needs_background": "light"
     },
     "output_type": "display_data"
    }
   ],
   "source": [
    "idx = int(np.random.random()*n)\n",
    "idy = int(np.random.random()*p)\n",
    "print(idx,idy)\n",
    "plt.plot(x[\"ri\"][0,:,idy,idx].T,np.arange(72))\n",
    "plt.plot(x[\"rl\"][0,:,idy,idx].T,np.arange(72));"
   ]
  },
  {
   "cell_type": "code",
   "execution_count": 138,
   "metadata": {},
   "outputs": [
    {
     "name": "stdout",
     "output_type": "stream",
     "text": [
      "395 2396\n"
     ]
    },
    {
     "data": {
      "image/png": "[encoded data removed]",
      "text/plain": [
       "<Figure size 432x288 with 1 Axes>"
      ]
     },
     "metadata": {
      "needs_background": "light"
     },
     "output_type": "display_data"
    }
   ],
   "source": [
    "idx = int(np.random.random()*n)\n",
    "idy = int(np.random.random()*p)\n",
    "print(idx,idy)\n",
    "\n",
    "#a=y['flx'][:].mean()\n",
    "#b=y['flx'][:].std()\n",
    "\n",
    "plt.plot(x[\"ri\"][0,:,idy,idx].T,np.arange(72));\n",
    "plt.plot(x[\"rl\"][0,:,idy,idx].T,np.arange(72));\n",
    "plt.plot( (y[\"flx\"][0,:,idy,idx].T - a)/(1000*b)  , np.arange(73));"
   ]
  },
  {
   "cell_type": "code",
   "execution_count": 7,
   "metadata": {},
   "outputs": [],
   "source": [
    "d=dict()\n",
    "d0 = y['flx'][:].std()\n",
    "for k in x.keys():\n",
    "    d[k] = x[k][:].std()"
   ]
  },
  {
   "cell_type": "code",
   "execution_count": 2,
   "metadata": {
    "collapsed": true
   },
   "outputs": [
    {
     "name": "stdout",
     "output_type": "stream",
     "text": [
      "fcld\n",
      "o3\n",
      "pl\n",
      "q\n",
      "qi\n"
     ]
    },
    {
     "name": "stderr",
     "output_type": "stream",
     "text": [
      "/home/victor/.local/lib/python3.6/site-packages/numpy/lib/function_base.py:2530: RuntimeWarning: invalid value encountered in true_divide\n",
      "  c /= stddev[:, None]\n",
      "/home/victor/.local/lib/python3.6/site-packages/numpy/lib/function_base.py:2531: RuntimeWarning: invalid value encountered in true_divide\n",
      "  c /= stddev[None, :]\n"
     ]
    },
    {
     "name": "stdout",
     "output_type": "stream",
     "text": [
      "ql\n",
      "ri\n",
      "rl\n",
      "t\n"
     ]
    }
   ],
   "source": [
    "cov = []\n",
    "v1=y['flx'][:].flatten()[-10000:]\n",
    "for i,k in enumerate(x.keys()):\n",
    "    if(len(x[k].shape)>3):\n",
    "        print(k)\n",
    "        v2=x[k][:].flatten()[-10000:]\n",
    "        cov.append(np.corrcoef(v1,v2)[0,1])"
   ]
  },
  {
   "cell_type": "code",
   "execution_count": 6,
   "metadata": {},
   "outputs": [
    {
     "name": "stdout",
     "output_type": "stream",
     "text": [
      "0.0 0.0\n"
     ]
    }
   ],
   "source": [
    "v2=x['qi'][:].flatten()[-10000:]\n",
    "print(np.max(v2), np.min(v2))"
   ]
  },
  {
   "cell_type": "code",
   "execution_count": 26,
   "metadata": {},
   "outputs": [
    {
     "data": {
      "text/plain": [
       "[array([[ 1., nan],\n",
       "        [nan, nan]]), array([[1.        , 0.25222993],\n",
       "        [0.25222993, 1.        ]]), array([[ 1., nan],\n",
       "        [nan, nan]]), array([[1.        , 0.21080508],\n",
       "        [0.21080508, 1.        ]]), array([[ 1., nan],\n",
       "        [nan, nan]]), array([[ 1., nan],\n",
       "        [nan, nan]]), array([[ 1., nan],\n",
       "        [nan, nan]]), array([[ 1., nan],\n",
       "        [nan, nan]]), array([[ 1.        , -0.16588551],\n",
       "        [-0.16588551,  1.        ]])]"
      ]
     },
     "execution_count": 26,
     "metadata": {},
     "output_type": "execute_result"
    }
   ],
   "source": [
    "cov"
   ]
  },
  {
   "cell_type": "code",
   "execution_count": 40,
   "metadata": {},
   "outputs": [
    {
     "data": {
      "text/plain": [
       "<Figure size 640x480 with 0 Axes>"
      ]
     },
     "metadata": {},
     "output_type": "display_data"
    }
   ],
   "source": [
    "f=plt.figure(num=None, figsize=(8, 6), dpi=80, facecolor='w', edgecolor='k')\n",
    "\n",
    "def plotvar(x, var):\n",
    "    t = x[var][0].T #Transposed for easier unpacking\n",
    "    y0 = np.arange(n)\n",
    "    x0 = np.arange(p)\n",
    "\n",
    "    nrows, ncols = n, p\n",
    "    grid = t#temp.reshape((nrows, ncols))\n",
    "\n",
    "    plt.imshow(grid, extent=(x0.min(), x0.max(), y0.max(), y0.min()),\n",
    "               interpolation='nearest', cmap=cm.gist_rainbow)"
   ]
  },
  {
   "cell_type": "code",
   "execution_count": 43,
   "metadata": {},
   "outputs": [
    {
     "data": {
      "image/png": "[encoded data removed]",
      "text/plain": [
       "<Figure size 432x288 with 1 Axes>"
      ]
     },
     "metadata": {
      "needs_background": "light"
     },
     "output_type": "display_data"
    }
   ],
   "source": [
    "plotvar(x, 'emis');"
   ]
  },
  {
   "cell_type": "code",
   "execution_count": 12,
   "metadata": {},
   "outputs": [
    {
     "ename": "NameError",
     "evalue": "name 'lat' is not defined",
     "output_type": "error",
     "traceback": [
      "\u001b[0;31m---------------------------------------------------------------------------\u001b[0m",
      "\u001b[0;31mNameError\u001b[0m                                 Traceback (most recent call last)",
      "\u001b[0;32m<ipython-input-12-92571bde2a1d>\u001b[0m in \u001b[0;36m<module>\u001b[0;34m\u001b[0m\n\u001b[0;32m----> 1\u001b[0;31m \u001b[0mlat\u001b[0m\u001b[0;34m\u001b[0m\u001b[0;34m\u001b[0m\u001b[0m\n\u001b[0m",
      "\u001b[0;31mNameError\u001b[0m: name 'lat' is not defined"
     ]
    }
   ],
   "source": [
    "lat"
   ]
  }
 ],
 "metadata": {
  "kernelspec": {
   "display_name": "Python 3",
   "language": "python",
   "name": "python3"
  },
  "language_info": {
   "codemirror_mode": {
    "name": "ipython",
    "version": 3
   },
   "file_extension": ".py",
   "mimetype": "text/x-python",
   "name": "python",
   "nbconvert_exporter": "python",
   "pygments_lexer": "ipython3",
   "version": "3.6.7"
  }
 },
 "nbformat": 4,
 "nbformat_minor": 2
}
