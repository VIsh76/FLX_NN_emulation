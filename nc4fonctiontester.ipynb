{
 "cells": [
  {
   "cell_type": "markdown",
   "metadata": {},
   "source": [
    "## DataLoader"
   ]
  },
  {
   "cell_type": "code",
   "execution_count": 1,
   "metadata": {},
   "outputs": [],
   "source": [
    "from generator import ProdKernel,FKernel,generate_conv\n",
    "from netCDF4 import Dataset\n",
    "import numpy as np\n",
    "import os\n",
    "\n",
    "datafolder ='Data'\n",
    "fin = Dataset(os.path.join(datafolder, 'f522_dh.trainingdata_in.lcv.20190401_0000z.nc4'))\n",
    "fout = Dataset(os.path.join(datafolder, 'f522_dh.trainingdata_out.lcv.20190401_0000z.nc4'))\n",
    "x = fin.variables\n",
    "y = fout.variables\n",
    "\n",
    "batch_size = 64\n",
    "HNn = [128,64,16,4] # hidden layer size\n",
    "header = list(x.keys())[6:] # variables are relevant after \"time\"\n",
    "kernels = []\n",
    "testprop = 0.9\n",
    "seed = 0\n",
    "n,p = x['Xdim'].shape[0],x['Ydim'].shape[0]\n",
    "\n",
    "np.random.seed(seed)\n",
    "d = len(header) + np.sum(np.array( [len(k.header) for k in kernels]  ))\n",
    "batch_per_epoch = int(n*p / batch_size)\n"
   ]
  },
  {
   "cell_type": "code",
   "execution_count": 2,
   "metadata": {},
   "outputs": [],
   "source": [
    "class Preprocess(object):\n",
    "    def __init__(self):\n",
    "        self.fitted=False\n",
    "        pass\n",
    "        \n",
    "    def apply(self,x):\n",
    "        return(x)\n",
    "\n",
    "    def fit(self,x):\n",
    "        self.fitted=True\n",
    "        return(x)\n",
    "    \n",
    "    def __str__(self):\n",
    "        return('type : {} \\nfitted : {} \\nvalues : {} \\n  ')\n",
    "    \n",
    "class Normalizer(Preprocess):\n",
    "    def __init__(self):\n",
    "        super().__init__()\n",
    "        self.m = 0\n",
    "        self.std = 1\n",
    "    \n",
    "    def apply(self,x):\n",
    "        x-=self.m\n",
    "        x/=self.std\n",
    "        return(x)\n",
    "\n",
    "    def fit(self,x):\n",
    "        self.fitted=True\n",
    "        self.m = np.mean(x)\n",
    "        self.std = np.std(x)\n",
    "        \n",
    "    def __str__(self):\n",
    "        return super().__str__().format(\"Normalizer\", self.fitted, (self.m, self.std))\n",
    "    \n",
    "class Zero_One(Preprocess):\n",
    "    def __init__(self):\n",
    "        super().__init__()\n",
    "        self.max=1\n",
    "        self.min=1\n",
    "    \n",
    "    def apply(self,x):\n",
    "        x-=self.min\n",
    "        x/=(self.max-self.min)\n",
    "        return(x)\n",
    "        \n",
    "    def fit(self,x):\n",
    "        self.fitted=True\n",
    "        self.min = np.min(x)\n",
    "        self.max = np.max(x)\n",
    "\n",
    "    def __str__(self):\n",
    "        return super().__str__().format(\"Zero_One\", self.fitted, (self.max, self.min))   "
   ]
  },
  {
   "cell_type": "code",
   "execution_count": 40,
   "metadata": {},
   "outputs": [],
   "source": [
    "class DictPrepross(object):\n",
    "    def __init__(self, header, functions):\n",
    "        self.dict=dict()\n",
    "        for i,h in enumerate(header):\n",
    "            self.dict[h]=functions[i]\n",
    "    \n",
    "    def fitonNetCDF(self, data_in):\n",
    "        for k in self.dict.keys():\n",
    "            self[k].fit(data_in[k][:])\n",
    "\n",
    "    def apply(self,x,h):\n",
    "        if(h in self.dict.keys()):\n",
    "            return(self[h].apply(x))\n",
    "        else:\n",
    "            return(x)\n",
    "    \n",
    "    def __getitem__(self,k):\n",
    "        return self.dict[k]\n",
    "\n",
    "    def __str__(self):\n",
    "        out =''\n",
    "        for h in self.dict.keys():\n",
    "            out = out + '{} : {}'.format(h, str(self[h]))+'\\n'\n",
    "        return out"
   ]
  },
  {
   "cell_type": "code",
   "execution_count": 41,
   "metadata": {},
   "outputs": [],
   "source": [
    "header = [\"ql\",\"qi\",\"q\",\"rl\",\"ri\",\"ts\",\"t\", \"pl\",\"emis\",\"o3\"]\n",
    "fct = []\n",
    "for i in range(5):\n",
    "    fct.append(Zero_One())\n",
    "for j in range(5):\n",
    "    fct.append(Normalizer())\n",
    "    \n",
    "D = DictPrepross(header, fct)\n",
    "del(fct)\n",
    "D.fitonNetCDF(x)"
   ]
  },
  {
   "cell_type": "code",
   "execution_count": 42,
   "metadata": {},
   "outputs": [
    {
     "name": "stdout",
     "output_type": "stream",
     "text": [
      "ql : type : Zero_One \n",
      "fitted : True \n",
      "values : (0.001, 0.0) \n",
      "  \n",
      "qi : type : Zero_One \n",
      "fitted : True \n",
      "values : (0.001, 0.0) \n",
      "  \n",
      "q : type : Zero_One \n",
      "fitted : True \n",
      "values : (0.023239478, 5.5362413e-31) \n",
      "  \n",
      "rl : type : Zero_One \n",
      "fitted : True \n",
      "values : (2.1e-05, 5e-06) \n",
      "  \n",
      "ri : type : Zero_One \n",
      "fitted : True \n",
      "values : (0.00010348039, 1.5e-05) \n",
      "  \n",
      "ts : type : Normalizer \n",
      "fitted : True \n",
      "values : (287.45782, 14.984612) \n",
      "  \n",
      "t : type : Normalizer \n",
      "fitted : True \n",
      "values : (244.74854, 28.761246) \n",
      "  \n",
      "pl : type : Normalizer \n",
      "fitted : True \n",
      "values : (30265.254, 35708.36) \n",
      "  \n",
      "emis : type : Normalizer \n",
      "fitted : True \n",
      "values : (0.98675406, 0.012409567) \n",
      "  \n",
      "o3 : type : Normalizer \n",
      "fitted : True \n",
      "values : (3.5703474e-06, 4.911362e-06) \n",
      "  \n",
      "\n"
     ]
    }
   ],
   "source": [
    "print(D)"
   ]
  },
  {
   "cell_type": "code",
   "execution_count": 45,
   "metadata": {},
   "outputs": [],
   "source": [
    "import time\n",
    "def generate_conv(x, y, kernels,train_prop=0.9, header=['ql'], batch_size=16, preprocess=DictPrepross([],[]), maxbatch=-1, test_data=False):\n",
    "    \"\"\"\"\n",
    "    Generate a batch, randomly for a convolution NN, using only variable in header\n",
    "    \n",
    "    x : input data in NetCDF format\n",
    "    y : output data in NetCDF format\n",
    "    kernels : list of kernsl\n",
    "    train_prop : proportion of the training set\n",
    "    header : variable used \n",
    "    batch_size : size of the generated batch\n",
    "    preprocess : DictPrepross object to apply to the data\n",
    "    maxbatch : number of batch produced, maxbacth<0 means an infinite number of batch\n",
    "    \"\"\"\n",
    "    \n",
    "    maxbatch = int(maxbatch)\n",
    "    n = x['Xdim'].shape[0]\n",
    "    nt = int(n*train_prop)  # id up to training\n",
    "    p = x['Ydim'].shape[0]\n",
    "    lev = x['lev'].shape[0]\n",
    "\n",
    "    x_header = header\n",
    "    x_header.sort()\n",
    "\n",
    "    nbatch = 0\n",
    "    while nbatch!=maxbatch:\n",
    "        y_shuffled = np.arange(p)  # Ydim id to be shuffled\n",
    "        # Xdim id but to be shuffled\n",
    "        if test_data:\n",
    "            x_shuffled = nt + np.arange(n - nt) # test\n",
    "        else:\n",
    "            x_shuffled = np.arange(nt) # train\n",
    "            \n",
    "#        np.random.shuffle(y_shuffled) #shuffling y divide the speed by 3\n",
    "        np.random.shuffle(x_shuffled)\n",
    "        id_batches_x = 0  # counting the id for batches coordinates\n",
    "        id_batches_y = 0\n",
    "        while id_batches_x < nt+1 and nbatch!=maxbatch:\n",
    "            nbatch+=1\n",
    "            start_time = time.time()\n",
    "            data_x = np.zeros((batch_size, lev, 1))  # batch data\n",
    "            idn = x_shuffled[id_batches_x]  # chosen indice in X_dim\n",
    "            idp = y_shuffled[id_batches_y + np.arange(batch_size)]  # chosen indices in Y_dim\n",
    "\n",
    "            Y = y['flx'][0, :, idp, idn]\n",
    "            Y = Y.swapaxes(0, 1)\n",
    "            \n",
    "            for k in x_header:\n",
    "                if len(x[k].shape) == 4:\n",
    "                    start_time = time.time()\n",
    "                    a = x[k][:, :, idp, idn]\n",
    "                    elapsed_time = time.time() - start_time\n",
    "                    a = a.reshape(1, lev, -1)\n",
    "                    a = a.swapaxes(0, 2)\n",
    "                elif len(x[k].shape) == 3:\n",
    "                    a = x[k][:, idp, idn]\n",
    "                    a = a.repeat(lev, 1).reshape(1, -1, lev)\n",
    "                    a = a.swapaxes(0, 1)\n",
    "                    a = a.swapaxes(1, 2)\n",
    "                a = D.apply(a, k)\n",
    "                data_x = np.concatenate((data_x, a), axis=2)\n",
    "            data_x = data_x[:, :, 1:]  # the first channel is full of 0, thus eliminated\n",
    "            for k in kernels:\n",
    "                data_x = k.apply(data_x, x_header)\n",
    "\n",
    "            yield data_x, Y\n",
    "\n",
    "            id_batches_y += batch_size\n",
    "            if id_batches_y+batch_size >= p:\n",
    "                id_batches_y = 0\n",
    "                id_batches_x += 1"
   ]
  },
  {
   "cell_type": "code",
   "execution_count": 71,
   "metadata": {},
   "outputs": [
    {
     "name": "stderr",
     "output_type": "stream",
     "text": [
      "5it [00:05,  1.09s/it]\n"
     ]
    }
   ],
   "source": [
    "from tqdm import tqdm\n",
    "batch_generator = lambda Params, batch_size, nb=-1 : generate_conv( \\\n",
    "                            Params[0], Params[1], kernels=kernels,\\\n",
    "                            train_prop=testprop, header=header,\\\n",
    "                            batch_size = batch_size, maxbatch=nb,  preprocess=D)\n",
    "xt, yt = [],[]\n",
    "for x0,y0 in tqdm(batch_generator((x,y), 12, 5)):\n",
    "    xt.append(x0)\n",
    "    yt.append(y0)"
   ]
  },
  {
   "cell_type": "code",
   "execution_count": 15,
   "metadata": {},
   "outputs": [
    {
     "data": {
      "text/plain": [
       "['emis', 'o3', 'pl', 'q', 'qi', 'ql', 'ri', 'rl', 't', 'ts']"
      ]
     },
     "execution_count": 15,
     "metadata": {},
     "output_type": "execute_result"
    }
   ],
   "source": [
    "header"
   ]
  },
  {
   "cell_type": "code",
   "execution_count": 48,
   "metadata": {},
   "outputs": [],
   "source": [
    "test = xt[0]"
   ]
  },
  {
   "cell_type": "code",
   "execution_count": 69,
   "metadata": {},
   "outputs": [
    {
     "data": {
      "image/png": "[encoded data removed]",
      "text/plain": [
       "<Figure size 432x288 with 1 Axes>"
      ]
     },
     "metadata": {
      "needs_background": "light"
     },
     "output_type": "display_data"
    }
   ],
   "source": [
    "import matplotlib.pyplot as plt\n",
    "\n",
    "plt.plot(test[2,:,-3], np.arange(72))\n",
    "plt.show()"
   ]
  },
  {
   "cell_type": "code",
   "execution_count": null,
   "metadata": {},
   "outputs": [],
   "source": []
  },
  {
   "cell_type": "code",
   "execution_count": null,
   "metadata": {},
   "outputs": [],
   "source": []
  },
  {
   "cell_type": "code",
   "execution_count": null,
   "metadata": {},
   "outputs": [],
   "source": []
  },
  {
   "cell_type": "code",
   "execution_count": null,
   "metadata": {},
   "outputs": [],
   "source": []
  },
  {
   "cell_type": "code",
   "execution_count": null,
   "metadata": {},
   "outputs": [],
   "source": []
  },
  {
   "cell_type": "code",
   "execution_count": null,
   "metadata": {},
   "outputs": [],
   "source": []
  },
  {
   "cell_type": "code",
   "execution_count": null,
   "metadata": {},
   "outputs": [],
   "source": []
  },
  {
   "cell_type": "code",
   "execution_count": null,
   "metadata": {},
   "outputs": [],
   "source": []
  }
 ],
 "metadata": {
  "kernelspec": {
   "display_name": "Python 3",
   "language": "python",
   "name": "python3"
  },
  "language_info": {
   "codemirror_mode": {
    "name": "ipython",
    "version": 3
   },
   "file_extension": ".py",
   "mimetype": "text/x-python",
   "name": "python",
   "nbconvert_exporter": "python",
   "pygments_lexer": "ipython3",
   "version": "3.6.7"
  }
 },
 "nbformat": 4,
 "nbformat_minor": 2
}
