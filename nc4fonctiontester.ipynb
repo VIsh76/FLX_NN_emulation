{
 "cells": [
  {
   "cell_type": "code",
   "execution_count": 10,
   "metadata": {},
   "outputs": [],
   "source": [
    "from netCDF4 import Dataset\n",
    "import numpy as np\n",
    "fin  = Dataset('f522_dh.trainingdata_in.lcv.20190401_0000z.nc4') \n",
    "fout = Dataset('f522_dh.trainingdata_out.lcv.20190401_0000z.nc4')"
   ]
  },
  {
   "cell_type": "code",
   "execution_count": 11,
   "metadata": {},
   "outputs": [
    {
     "name": "stdout",
     "output_type": "stream",
     "text": [
      "Xdim (720,)\n",
      "Ydim (4320,)\n",
      "lons (4320, 720)\n",
      "lats (4320, 720)\n",
      "lev (72,)\n",
      "time (1,)\n",
      "emis (1, 4320, 720)\n",
      "fcld (1, 72, 4320, 720)\n",
      "o3 (1, 72, 4320, 720)\n",
      "pl (1, 72, 4320, 720)\n",
      "q (1, 72, 4320, 720)\n",
      "qi (1, 72, 4320, 720)\n",
      "ql (1, 72, 4320, 720)\n",
      "ri (1, 72, 4320, 720)\n",
      "rl (1, 72, 4320, 720)\n",
      "t (1, 72, 4320, 720)\n",
      "ts (1, 4320, 720)\n"
     ]
    }
   ],
   "source": [
    "x = fin.variables\n",
    "y = fout.variables\n",
    "for var in x.keys():\n",
    "    print(var, x[var].shape)\n",
    "    \n",
    "n   = x['Xdim'].shape[0]    \n",
    "p   = x['Ydim'].shape[0]"
   ]
  },
  {
   "cell_type": "markdown",
   "metadata": {},
   "source": [
    "### DATA PREPROCESSING"
   ]
  },
  {
   "cell_type": "code",
   "execution_count": 7,
   "metadata": {},
   "outputs": [],
   "source": [
    "class Kernel(object):\n",
    "    def __init__(self, ids):\n",
    "        self.ids = ids\n",
    "        \n",
    "    def apply(self, x):\n",
    "        return(x)       \n",
    "\n",
    "class ProdKernel(Kernel):\n",
    "    def __init__(self, ids=[]):\n",
    "        Kernel.__init__(self,ids)\n",
    "        self.ids=ids\n",
    "        self.header=[]\n",
    "\n",
    "    def apply(self,x0, xheader):\n",
    "        x=x0.copy()\n",
    "        for ids in self.ids:\n",
    "            id1=np.where(ids[0]==xheader)[0]\n",
    "            id2=np.where(ids[1]==xheader)[0]\n",
    "            k = x[:,:,id1]*x[:,:,id2]\n",
    "            xheader.append(ids[0]+'*'+ids[1])\n",
    "            x = np.concatenate((k,x),axis=-1)\n",
    "        return(x)\n",
    "\n",
    "class FKernel(Kernel):\n",
    "    def __init__(self, func, gamma=1, ids=[]):\n",
    "        Kernel.__init__(self,ids)\n",
    "        self.func = func\n",
    "        self.fname = str(func).split(' ')[1]\n",
    "        self.ids  = ids\n",
    "\n",
    "    def apply(self,x0, xheader0):\n",
    "        xheader0 = xheader.copy()\n",
    "        self.header=[]\n",
    "        x=x0.copy()\n",
    "        for ids in self.ids:\n",
    "            id1=np.where(ids[0]==xheader)[0]\n",
    "            k = self.func(x[:,:,id1])\n",
    "            xheader.append(fname+ids[0])\n",
    "            x = np.concatenate((k,x),axis=-1)\n",
    "        self.xheader=xheader\n",
    "        return(x)\n",
    "\n",
    "Pk = ProdKernel()\n",
    "Funcf = FKernel(np.exp)"
   ]
  },
  {
   "cell_type": "code",
   "execution_count": 58,
   "metadata": {},
   "outputs": [
    {
     "name": "stderr",
     "output_type": "stream",
     "text": [
      "\n",
      "  0%|          | 0/1 [00:00<?, ?it/s]\u001b[A\n",
      "100%|██████████| 1/1 [00:00<00:00,  1.93it/s]\u001b[A"
     ]
    },
    {
     "name": "stdout",
     "output_type": "stream",
     "text": [
      "\n",
      "(16, 72, 5) (16, 73)\n"
     ]
    }
   ],
   "source": [
    "def GenerateConv(x, y, kernel,train_prop=0.9, header=['ql'], batch_size=16, seed=0):\n",
    "    \"Generate a batch, randomly for a convolution NN, using only variable in header\"\n",
    "\n",
    "    n  = x['Xdim'].shape[0]\n",
    "    nt = int(n*train_prop) # id up to training\n",
    "    p  = x['Ydim'].shape[0]\n",
    "    lev= x['lev'].shape[0]\n",
    "\n",
    "    xheader = header\n",
    "    xheader.sort()\n",
    "    \n",
    "    while True:\n",
    "        yshuffled   = np.arange(p) # y id but random\n",
    "        xshuffled   = np.arange(nt)# x id but random\n",
    "        \n",
    "        #np.random.shuffle(yshuffled) #shuffling y divide the spead by 3\n",
    "        np.random.shuffle(xshuffled)\n",
    "        id_batches_x = 0 #counting the id for batches coordinates\n",
    "        id_batches_y = 0\n",
    "        \n",
    "        while (id_batches_x) < nt+1:\n",
    "\n",
    "            dataX = np.zeros((batch_size,lev,1)) # batch data\n",
    "            idn   = xshuffled[id_batches_x]\n",
    "            idp   = yshuffled[id_batches_y + np.arange(batch_size)]\n",
    "            Y = y['flx'][0,:, idp, idn]\n",
    "            Y = Y.swapaxes(0,1)\n",
    "            \n",
    "            for k in xheader:\n",
    "                if(len(x[k].shape)==4):\n",
    "                    a = x[k][:,:,idp,idn]\n",
    "                    a = a.reshape(1,lev, -1)\n",
    "                    a = a.swapaxes(0,2)\n",
    "                elif(len(x[k].shape)==3):\n",
    "                    a = x[k][:,idp,idn]\n",
    "                    a = a.repeat(lev,1).reshape(1,-1 , lev)\n",
    "                    a = a.swapaxes(0,1)\n",
    "                    a = a.swapaxes(1,2)\n",
    "                dataX = np.concatenate((dataX,a),axis=2)\n",
    "            dataX = dataX[:,:,1:] # the first channel is full of 0\n",
    "            kernel.apply(dataX, xheader)\n",
    "            print()\n",
    "            yield dataX,Y\n",
    "            id_batches_y += batch_size \n",
    "            if(id_batches_y+batch_size >= p):\n",
    "                id_batches_y = 0\n",
    "                id_batches_x+= 1\n",
    "\n",
    "from tqdm import tqdm\n",
    "batch_size=16\n",
    "generate_batch = lambda A,batch_size : GenerateConv(A[0],A[1],A[2],batch_size=16, header=[\"t\",\"ts\", \"o3\", 'emis','ql'])\n",
    "\n",
    "for i in tqdm(range(1)):\n",
    "    for X,Y in generate_batch( (x,y,Prodk),batch_size ):\n",
    "        print(X.shape,Y.shape)\n",
    "        break"
   ]
  },
  {
   "cell_type": "code",
   "execution_count": 57,
   "metadata": {},
   "outputs": [
    {
     "data": {
      "text/plain": [
       "odict_keys(['Xdim', 'Ydim', 'lons', 'lats', 'lev', 'time', 'emis', 'fcld', 'o3', 'pl', 'q', 'qi', 'ql', 'ri', 'rl', 't', 'ts'])"
      ]
     },
     "execution_count": 57,
     "metadata": {},
     "output_type": "execute_result"
    }
   ],
   "source": [
    "x.keys()"
   ]
  },
  {
   "cell_type": "code",
   "execution_count": 54,
   "metadata": {},
   "outputs": [
    {
     "name": "stderr",
     "output_type": "stream",
     "text": [
      "\n",
      "  0%|          | 0/1 [00:00<?, ?it/s]\u001b[A\n",
      "100%|██████████| 1/1 [00:00<00:00,  1.99it/s]\u001b[A"
     ]
    },
    {
     "name": "stdout",
     "output_type": "stream",
     "text": [
      "(16, 218) (16, 73)\n"
     ]
    }
   ],
   "source": [
    "def GenerateDense(x, y, kernel, train_prop=0.9, header=[\"o3\",'ql',\"t\",\"ts\",'emis'], batch_size=16, Dense=False, seed=0):\n",
    "    \"Generate a batch, randomly for a dense NN, using only variable in header\"\n",
    "    n  = x['Xdim'].shape[0]\n",
    "    nt = int(n*train_prop) # id up to training\n",
    "    p  = x['Ydim'].shape[0]\n",
    "    lev= x['lev'].shape[0]\n",
    "\n",
    "    np.random.seed(seed)\n",
    "    xheader = header\n",
    "    xheader.sort()\n",
    "    \n",
    "    while True:\n",
    "        yshuffled   = np.arange(p) # y id but random\n",
    "        xshuffled   = np.arange(nt)# x id but random\n",
    "        \n",
    "        #np.random.shuffle(yshuffled) #shuffling y divide the spead by 3\n",
    "        np.random.shuffle(xshuffled)\n",
    "        id_batches_x = 0 #counting the id for batches coordinates\n",
    "        id_batches_y = 0\n",
    "        \n",
    "        while (id_batches_x) < nt+1:\n",
    "\n",
    "            dataX = np.zeros((batch_size, 1)) # batch data\n",
    "            idn   = xshuffled[id_batches_x]\n",
    "            idp   = yshuffled[id_batches_y + np.arange(batch_size)]\n",
    "            Y = y['flx'][0,:, idp, idn]\n",
    "            Y = Y.swapaxes(0,1)\n",
    "            for k in xheader:\n",
    "                if(len(x[k].shape)==4):\n",
    "                    a = x[k][:,:,idp,idn]\n",
    "                    a = a.reshape(lev, -1)\n",
    "                    a = a.swapaxes(0,1)\n",
    "                elif(len(x[k].shape)==3):\n",
    "                    a = x[k][:,idp,idn]\n",
    "                    a = a.swapaxes(0,1)\n",
    "                dataX = np.concatenate((dataX,a),axis=1)\n",
    "                \n",
    "            dataX = dataX[:,1:] # the first column is full of zeros\n",
    "            kernel.apply(dataX, xheader)\n",
    "            yield dataX,Y\n",
    "            id_batches_y += batch_size \n",
    "            if(id_batches_y+batch_size >= p):\n",
    "                id_batches_y = 0\n",
    "                id_batches_x+= 1\n",
    "\n",
    "batch_size=16\n",
    "generate_batch = lambda A,batch_size : GenerateDense(A[0],A[1],A[2],batch_size=16)\n",
    "\n",
    "for i in tqdm(range(1)):\n",
    "    for X,Y in generate_batch( (x,y,Prodk),batch_size ):\n",
    "        print(X.shape,Y.shape)\n",
    "        break"
   ]
  },
  {
   "cell_type": "code",
   "execution_count": 28,
   "metadata": {},
   "outputs": [
    {
     "name": "stderr",
     "output_type": "stream",
     "text": [
      "\n",
      "  0%|          | 0/10 [00:00<?, ?it/s]\u001b[A\n",
      "100%|██████████| 10/10 [00:00<00:00, 5874.38it/s]\u001b[A"
     ]
    }
   ],
   "source": [
    "for i in tqdm(range(10)):\n",
    "    yshuffled   = np.arange(p) # y id but random\n",
    "    xshuffled   = np.arange(n) # x id but random\n",
    "    np.random.shuffle(yshuffled)\n",
    "    np.random.shuffle(xshuffled)"
   ]
  },
  {
   "cell_type": "markdown",
   "metadata": {},
   "source": [
    "CAN BE MODIFY :\n",
    "   - tride : check\n",
    "   - padding : change value of padding (same for ex or lin)\n",
    "   - check act/kernel constraint (limit size of gradient)"
   ]
  },
  {
   "cell_type": "code",
   "execution_count": 60,
   "metadata": {},
   "outputs": [],
   "source": [
    "from keras.models import Sequential\n",
    "from keras.layers import Dense, Conv1D, Activation,Input,Flatten, UpSampling1D\n",
    "from keras import optimizers, regularizers, initializers\n",
    "\n",
    "# PARAMETERS \n",
    "HNn = [128,64,16,4] # hidden layer size\n",
    "d=12 # number of variables ############\" CHANGE !!\n",
    "s=0\n",
    "\n",
    "model = Sequential([\n",
    "    Conv1D(input_shape=(72,d),filters=HNn[0],kernel_regularizer=regularizers.l2(0.01), \\\n",
    "           kernel_size=10, strides=1, padding=\"same\", kernel_initializer = initializers.Zeros()),\n",
    "    Activation(\"relu\"),\n",
    "    Conv1D(filters=HNn[1], kernel_size=10, \\\n",
    "           kernel_regularizer=regularizers.l2(0.01), strides=1, padding=\"same\",kernel_initializer = initializers.RandomUniform(minval=-1, maxval=1, seed=s)),\n",
    "    Activation(\"relu\"),\n",
    "    Conv1D(filters=HNn[2], kernel_size=3, \\\n",
    "           kernel_regularizer=regularizers.l2(0.01), strides=1, padding=\"same\",kernel_initializer = initializers.RandomUniform(minval=-1, maxval=1, seed=s)),\n",
    "    Activation(\"relu\"),\n",
    "    Conv1D(filters=HNn[3], kernel_size=3, \\\n",
    "           kernel_regularizer=regularizers.l2(0.01), strides=1, padding=\"same\",kernel_initializer = initializers.RandomUniform(minval=-1, maxval=1, seed=s)),\n",
    "    Activation(\"relu\"),\n",
    "    Flatten(),\n",
    "    Dense(73, input_shape=(72*HNn[2],), kernel_regularizer = regularizers.l2(0.01),kernel_initializer = initializers.RandomUniform(minval=-1, maxval=1, seed=s))\n",
    "])\n",
    "\n",
    "sgd = optimizers.SGD(lr=0.1, decay=1e-6, momentum=0.9)\n",
    "model.compile(optimizer=sgd,\n",
    "             loss='mse',\n",
    "             )\n",
    "#model.summary()\n",
    "model.save('arch1_FCNN.h5')"
   ]
  },
  {
   "cell_type": "code",
   "execution_count": null,
   "metadata": {},
   "outputs": [],
   "source": [
    "Bi"
   ]
  },
  {
   "cell_type": "code",
   "execution_count": 33,
   "metadata": {
    "scrolled": false
   },
   "outputs": [
    {
     "name": "stdout",
     "output_type": "stream",
     "text": [
      "_________________________________________________________________\n",
      "Layer (type)                 Output Shape              Param #   \n",
      "=================================================================\n",
      "conv1d_1 (Conv1D)            (None, 72, 128)           15488     \n",
      "_________________________________________________________________\n",
      "activation_1 (Activation)    (None, 72, 128)           0         \n",
      "_________________________________________________________________\n",
      "conv1d_2 (Conv1D)            (None, 72, 64)            81984     \n",
      "_________________________________________________________________\n",
      "activation_2 (Activation)    (None, 72, 64)            0         \n",
      "_________________________________________________________________\n",
      "conv1d_3 (Conv1D)            (None, 72, 16)            3088      \n",
      "_________________________________________________________________\n",
      "activation_3 (Activation)    (None, 72, 16)            0         \n",
      "_________________________________________________________________\n",
      "conv1d_4 (Conv1D)            (None, 72, 4)             196       \n",
      "_________________________________________________________________\n",
      "activation_4 (Activation)    (None, 72, 4)             0         \n",
      "_________________________________________________________________\n",
      "flatten_1 (Flatten)          (None, 288)               0         \n",
      "_________________________________________________________________\n",
      "dense_1 (Dense)              (None, 73)                21097     \n",
      "=================================================================\n",
      "Total params: 121,853\n",
      "Trainable params: 121,853\n",
      "Non-trainable params: 0\n",
      "_________________________________________________________________\n"
     ]
    }
   ],
   "source": [
    "model.summary()"
   ]
  },
  {
   "cell_type": "markdown",
   "metadata": {},
   "source": [
    "### MODEL 2 :\n",
    "\n",
    "- FCNN\n",
    "- (with AE)"
   ]
  },
  {
   "cell_type": "code",
   "execution_count": 34,
   "metadata": {},
   "outputs": [
    {
     "name": "stdout",
     "output_type": "stream",
     "text": [
      "_________________________________________________________________\n",
      "Layer (type)                 Output Shape              Param #   \n",
      "=================================================================\n",
      "dense_2 (Dense)              (None, 128)               64640     \n",
      "_________________________________________________________________\n",
      "dense_3 (Dense)              (None, 73)                9417      \n",
      "=================================================================\n",
      "Total params: 74,057\n",
      "Trainable params: 74,057\n",
      "Non-trainable params: 0\n",
      "_________________________________________________________________\n"
     ]
    }
   ],
   "source": [
    "model2 = Sequential([\n",
    "    Dense(128, input_shape=(72*(d-5), )),\n",
    "    Dense(73, )\n",
    "])\n",
    "model2.compile(optimizer=sgd,\n",
    "             loss='mse',\n",
    "             )\n",
    "model2.summary()"
   ]
  },
  {
   "cell_type": "code",
   "execution_count": 22,
   "metadata": {},
   "outputs": [
    {
     "data": {
      "text/plain": [
       "576"
      ]
     },
     "execution_count": 22,
     "metadata": {},
     "output_type": "execute_result"
    }
   ],
   "source": [
    "72*(d-4)"
   ]
  },
  {
   "cell_type": "code",
   "execution_count": 15,
   "metadata": {},
   "outputs": [
    {
     "data": {
      "text/plain": [
       "1664"
      ]
     },
     "execution_count": 15,
     "metadata": {},
     "output_type": "execute_result"
    }
   ],
   "source": [
    "128*d+128"
   ]
  },
  {
   "cell_type": "code",
   "execution_count": 81,
   "metadata": {},
   "outputs": [
    {
     "name": "stdout",
     "output_type": "stream",
     "text": [
      "72 [3, 2] 73\n",
      "_________________________________________________________________\n",
      "Layer (type)                 Output Shape              Param #   \n",
      "=================================================================\n",
      "conv1d_40 (Conv1D)           (None, 73, 16)            96        \n",
      "_________________________________________________________________\n",
      "activation_37 (Activation)   (None, 73, 16)            0         \n",
      "_________________________________________________________________\n",
      "up_sampling1d_21 (UpSampling (None, 219, 16)           0         \n",
      "_________________________________________________________________\n",
      "conv1d_41 (Conv1D)           (None, 219, 32)           2592      \n",
      "_________________________________________________________________\n",
      "activation_38 (Activation)   (None, 219, 32)           0         \n",
      "_________________________________________________________________\n",
      "up_sampling1d_22 (UpSampling (None, 438, 32)           0         \n",
      "_________________________________________________________________\n",
      "conv1d_42 (Conv1D)           (None, 438, 1)            161       \n",
      "_________________________________________________________________\n",
      "activation_39 (Activation)   (None, 438, 1)            0         \n",
      "=================================================================\n",
      "Total params: 2,849\n",
      "Trainable params: 2,849\n",
      "Non-trainable params: 0\n",
      "_________________________________________________________________\n"
     ]
    }
   ],
   "source": [
    "def generator_model():  # CDNN Model\n",
    "    INPUT_LN = 72\n",
    "    N_GEN_l = [3,2]\n",
    "    CODE_LN = 73\n",
    "    print(INPUT_LN, N_GEN_l, CODE_LN) \n",
    "    \n",
    "    model = Sequential()\n",
    "\n",
    "    model.add(Conv1D(16, 5, padding='same', input_shape=(CODE_LN, 1)))\n",
    "    model.add(Activation('relu'))\n",
    "\n",
    "    model.add(UpSampling1D(size=N_GEN_l[0]))\n",
    "    model.add(Conv1D(32, 5, padding='same'))\n",
    "    model.add(Activation('relu'))\n",
    "\n",
    "    model.add(UpSampling1D(size=N_GEN_l[1]))\n",
    "    model.add(Conv1D(1, 5, padding='same'))\n",
    "    model.add(Activation('tanh'))\n",
    "    return model\n",
    "\n",
    "m=generator_model()\n",
    "m.summary()"
   ]
  },
  {
   "cell_type": "code",
   "execution_count": null,
   "metadata": {},
   "outputs": [],
   "source": []
  },
  {
   "cell_type": "code",
   "execution_count": null,
   "metadata": {},
   "outputs": [],
   "source": [
    "w=model.weights[0]"
   ]
  },
  {
   "cell_type": "markdown",
   "metadata": {},
   "source": [
    "##### MODEL 2 : FCM-Final FC"
   ]
  },
  {
   "cell_type": "markdown",
   "metadata": {},
   "source": [
    "##### MODEL 2 : U-net :\n",
    "- use regular U-net so all layers affect each other and more stability"
   ]
  },
  {
   "cell_type": "markdown",
   "metadata": {},
   "source": [
    "### MODEL 3 : Bidir-LSTM \n",
    "> Possible alternatives\n",
    "\n",
    "- use two LSTM to show both impact of superior and inferior layer\n",
    "- use attention model over it\n",
    "- use w embeddings before\n",
    "\n",
    "> TD\n",
    "\n",
    "- Read git trez\n",
    "- Read article of Hedge fun"
   ]
  },
  {
   "cell_type": "code",
   "execution_count": 28,
   "metadata": {},
   "outputs": [
    {
     "name": "stdout",
     "output_type": "stream",
     "text": [
      "_________________________________________________________________\n",
      "Layer (type)                 Output Shape              Param #   \n",
      "=================================================================\n",
      "bidirectional_12 (Bidirectio (None, 72, 256)           144384    \n",
      "_________________________________________________________________\n",
      "dense_44 (Dense)             (None, 72, 50)            12850     \n",
      "_________________________________________________________________\n",
      "activation_29 (Activation)   (None, 72, 50)            0         \n",
      "_________________________________________________________________\n",
      "dense_45 (Dense)             (None, 72, 20)            1020      \n",
      "_________________________________________________________________\n",
      "activation_30 (Activation)   (None, 72, 20)            0         \n",
      "_________________________________________________________________\n",
      "dense_46 (Dense)             (None, 72, 1)             21        \n",
      "=================================================================\n",
      "Total params: 158,275\n",
      "Trainable params: 158,275\n",
      "Non-trainable params: 0\n",
      "_________________________________________________________________\n"
     ]
    }
   ],
   "source": [
    "from keras.models import Sequential\n",
    "from keras.layers import Dense, LSTM, RNN, SimpleRNN, GRU, Activation\n",
    "from keras import optimizers\n",
    "from keras.layers import Bidirectional\n",
    "\n",
    "model = Sequential()\n",
    "model.add(Bidirectional(LSTM(128, return_sequences=True),input_shape=(72, 12)))\n",
    "model.add(Dense(50))\n",
    "model.add(Activation('relu'))\n",
    "model.add(Dense(20))\n",
    "model.add(Activation('relu'))\n",
    "model.add(Dense(1))\n",
    "model.compile(loss='mse', optimizer='adam')\n",
    "model.summary()"
   ]
  },
  {
   "cell_type": "code",
   "execution_count": 119,
   "metadata": {},
   "outputs": [
    {
     "data": {
      "text/plain": [
       "27"
      ]
     },
     "execution_count": 119,
     "metadata": {},
     "output_type": "execute_result"
    }
   ],
   "source": []
  },
  {
   "cell_type": "code",
   "execution_count": null,
   "metadata": {},
   "outputs": [],
   "source": []
  },
  {
   "cell_type": "code",
   "execution_count": null,
   "metadata": {},
   "outputs": [],
   "source": []
  },
  {
   "cell_type": "code",
   "execution_count": null,
   "metadata": {},
   "outputs": [],
   "source": []
  },
  {
   "cell_type": "code",
   "execution_count": null,
   "metadata": {},
   "outputs": [],
   "source": []
  },
  {
   "cell_type": "code",
   "execution_count": null,
   "metadata": {},
   "outputs": [],
   "source": []
  },
  {
   "cell_type": "code",
   "execution_count": null,
   "metadata": {},
   "outputs": [],
   "source": []
  },
  {
   "cell_type": "code",
   "execution_count": null,
   "metadata": {},
   "outputs": [],
   "source": []
  },
  {
   "cell_type": "code",
   "execution_count": null,
   "metadata": {},
   "outputs": [],
   "source": []
  },
  {
   "cell_type": "markdown",
   "metadata": {},
   "source": [
    "#### TRASH"
   ]
  },
  {
   "cell_type": "code",
   "execution_count": 8,
   "metadata": {},
   "outputs": [],
   "source": [
    "def generate_batch(x, y, batch_size=16):\n",
    "\n",
    "    n   = x['Xdim'].shape[0]\n",
    "    p   = x['Ydim'].shape[0]\n",
    "    lev = x['lev'].shape[0]\n",
    "    idx = np.random.choice(np.arange(n*p), batch_size, replace=False)\n",
    "    \n",
    "    Y = y['flx'][:].reshape(1, lev, -1).swapaxes(0,2)[idx]\n",
    "    \n",
    "    databoard = np.zeros((batch_size,lev,1))\n",
    "    xheader = []\n",
    "\n",
    "    for k in x.keys():\n",
    "        a = x[k][:]\n",
    "        if(len(a.shape)>2):\n",
    "            xheader.append(k)\n",
    "            if(len(x[k].shape)==4):\n",
    "                a = a.reshape(1,lev, -1)\n",
    "                a = a.swapaxes(0,2)\n",
    "            elif(len(x[k].shape)==3):\n",
    "                a = a.reshape(1, -1)\n",
    "                a = a.repeat(lev,1).reshape(1,-1 , lev)\n",
    "                a = a.swapaxes(0,1)\n",
    "                a = a.swapaxes(1,2)\n",
    "            a = a[idx]\n",
    "            databoard = np.concatenate((databoard,a),axis=2)\n",
    "    return(databoard,xheader,Y)\n",
    "\n",
    "X,hx,Y = generate_batch(x,y)"
   ]
  }
 ],
 "metadata": {
  "kernelspec": {
   "display_name": "Python 3",
   "language": "python",
   "name": "python3"
  }
 },
 "nbformat": 4,
 "nbformat_minor": 2
}
