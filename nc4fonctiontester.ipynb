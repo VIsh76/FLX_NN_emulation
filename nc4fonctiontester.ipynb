{
 "cells": [
  {
   "cell_type": "markdown",
   "metadata": {},
   "source": [
    "# Fonction tester\n",
    "\n",
    "This file main goal is to test function and classes for later use in training.\n",
    "Is ignore entirely during the training"
   ]
  },
  {
   "cell_type": "code",
   "execution_count": 1,
   "metadata": {},
   "outputs": [
    {
     "name": "stderr",
     "output_type": "stream",
     "text": [
      "Using TensorFlow backend.\n",
      "/usr/lib/python3/dist-packages/requests/__init__.py:80: RequestsDependencyWarning: urllib3 (1.24.2) or chardet (3.0.4) doesn't match a supported version!\n",
      "  RequestsDependencyWarning)\n"
     ]
    }
   ],
   "source": [
    "import matplotlib.pyplot as plt\n",
    "import numpy as np\n",
    "import pandas as pd\n",
    "import os\n",
    "import keras\n",
    "\n",
    "from tqdm import tqdm\n",
    "from math import ceil\n",
    "from generator import Diff_Generator, Basic_Generator\n",
    "from preprocess import ProdKernel, FKernel, Preprocess, Zero_One,  Level_Normalizer, Normalizer\n",
    "from utils import Load_FLX_dict, Plot_Batch\n",
    "\n",
    "data_folder=\"Data\""
   ]
  },
  {
   "cell_type": "code",
   "execution_count": 2,
   "metadata": {},
   "outputs": [],
   "source": [
    "##### Dictionnary\n",
    "D = Load_FLX_dict()\n",
    "##### Kernels\n",
    "Klist = []\n",
    "##### b_size\n",
    "batch_size= 64\n",
    "#nM.fit_generator(test_generator)"
   ]
  },
  {
   "cell_type": "code",
   "execution_count": 12,
   "metadata": {},
   "outputs": [
    {
     "name": "stdout",
     "output_type": "stream",
     "text": [
      "_________________________________________________________________\n",
      "Layer (type)                 Output Shape              Param #   \n",
      "=================================================================\n",
      "input_7 (InputLayer)         (None, 72, 11)            0         \n",
      "_________________________________________________________________\n",
      "Seq (Sequential)             (None, 72, 11)            0         \n",
      "=================================================================\n",
      "Total params: 0\n",
      "Trainable params: 0\n",
      "Non-trainable params: 0\n",
      "_________________________________________________________________\n",
      "_________________________________________________________________\n",
      "Layer (type)                 Output Shape              Param #   \n",
      "=================================================================\n",
      "up_sampling1d_8 (UpSampling1 (None, 360, 11)           0         \n",
      "_________________________________________________________________\n",
      "AVG1 (AveragePooling1D)      (None, 72, 11)            0         \n",
      "=================================================================\n",
      "Total params: 0\n",
      "Trainable params: 0\n",
      "Non-trainable params: 0\n",
      "_________________________________________________________________\n"
     ]
    },
    {
     "name": "stderr",
     "output_type": "stream",
     "text": [
      "/usr/local/lib/python3.6/dist-packages/ipykernel_launcher.py:12: UserWarning: Update your `AveragePooling1D` call to the Keras 2 API: `AveragePooling1D(26, padding=\"same\", name=\"AVG1\", strides=5)`\n",
      "  if sys.path[0] == '':\n"
     ]
    }
   ],
   "source": [
    "from keras.models import Sequential\n",
    "from keras.layers import LSTM, RNN, SimpleRNN, GRU, Activation, Flatten\n",
    "from keras.layers import MaxPooling1D, Dense, Conv1D, UpSampling1D, AveragePooling1D\n",
    "from keras.engine.input_layer import Input\n",
    "from keras import optimizers\n",
    "from keras.layers import Bidirectional\n",
    "from keras import backend as K\n",
    "from keras.losses import mean_squared_error\n",
    "\n",
    "M = Sequential()\n",
    "M.add(UpSampling1D(5))\n",
    "M.add(AveragePooling1D(26, stride=5, padding='same', name='AVG1'))\n",
    "#M.add(Dense(1))\n",
    "#M.add(Flatten())\n",
    "#M.summary()\n",
    "rmsprop = optimizers.RMSprop(lr=0.001, rho=0.9, epsilon=None, decay=1.e-5)\n",
    "\n",
    "from keras.models import Model\n",
    "\n",
    "newInput = Input(shape=(72,11))\n",
    "newOutputs = M(newInput)\n",
    "nM = Model(newInput, newOutputs)\n",
    "nM.compile(loss='mse', optimizer=rmsprop)\n",
    "nM.summary()\n",
    "M.summary()"
   ]
  },
  {
   "cell_type": "code",
   "execution_count": 4,
   "metadata": {},
   "outputs": [],
   "source": [
    "import matplotlib.pyplot as plt\n",
    "\n",
    "def multipred(models,x):\n",
    "    bs = x.shape[0]\n",
    "    yp = np.zeros((len(models),bs,73))\n",
    "    for i,model in enumerate(models):\n",
    "        yp[i,:,:]=model.predict(x)\n",
    "    return(yp)\n",
    "\n",
    "testsize = 128*4\n",
    "for x0,y0 in test_generator( (x,y), batch_size=testsize, nb=1):\n",
    "    data_test = (x0,y0)\n",
    "\n",
    "ytruth = data_test[1]\n",
    "xtest = data_test[0].copy() \n",
    "xtest1 = data_test[0].copy() \n",
    "xtest2 = data_test[0].copy()\n",
    "xtest3 = data_test[0].copy()\n",
    "\n",
    "xtest1 *=0\n",
    "xtest2[:,:,1] *= 0\n",
    "xtest3[:,:,2] *= 0\n",
    "\n",
    "ypred = multipred(models,xtest)\n",
    "ypred1 = multipred(models,xtest1)\n",
    "ypred2 = multipred(models,xtest2)\n",
    "ypred3 = multipred(models,xtest3)\n",
    "\n",
    "def double_mean_squared(y_true, y_pred):\n",
    "    fist_loss   =  K.mean(K.square(y_pred - y_true), axis=-1)\n",
    "    second_loss =  x[:, :1]\n",
    "    first_log = K.log(K.clip(y_pred, K.epsilon(), None) + 1.)\n",
    "    second_log = K.log(K.clip(y_true, K.epsilon(), None) + 1.)\n",
    "return K.mean(K.square(first_log - second_log), axis=-1)\n",
    "\n"
   ]
  }
 ],
 "metadata": {
  "kernelspec": {
   "display_name": "Python 3",
   "language": "python",
   "name": "python3"
  },
  "language_info": {
   "codemirror_mode": {
    "name": "ipython",
    "version": 3
   },
   "file_extension": ".py",
   "mimetype": "text/x-python",
   "name": "python",
   "nbconvert_exporter": "python",
   "pygments_lexer": "ipython3",
   "version": "3.6.7"
  }
 },
 "nbformat": 4,
 "nbformat_minor": 2
}
