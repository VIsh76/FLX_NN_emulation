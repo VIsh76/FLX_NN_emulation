{
 "cells": [
  {
   "cell_type": "code",
   "execution_count": 33,
   "metadata": {},
   "outputs": [],
   "source": [
    "from generator import GenerateConv, GenerateDense\n",
    "from kernels import ProdKernel, FKernel\n",
    "fin  = Dataset('f522_dh.trainingdata_in.lcv.20190401_0000z.nc4') \n",
    "fout = Dataset('f522_dh.trainingdata_out.lcv.20190401_0000z.nc4')\n",
    "x = fin.variables\n",
    "y = fout.variables"
   ]
  },
  {
   "cell_type": "code",
   "execution_count": 60,
   "metadata": {},
   "outputs": [],
   "source": [
    "from keras.models import Sequential\n",
    "from keras.layers import Dense, Conv1D, Activation,Input,Flatten, UpSampling1D\n",
    "from keras import optimizers, regularizers, initializers\n",
    "\n",
    "# PARAMETERS \n",
    "HNn = [128,64,16,4] # hidden layer size\n",
    "d=12 # number of variables ############\" CHANGE !!\n",
    "s=0\n",
    "\n",
    "model = Sequential([\n",
    "    Conv1D(input_shape=(72,d),filters=HNn[0],kernel_regularizer=regularizers.l2(0.01), \\\n",
    "           kernel_size=10, strides=1, padding=\"same\", kernel_initializer = initializers.Zeros()),\n",
    "    Activation(\"relu\"),\n",
    "    Conv1D(filters=HNn[1], kernel_size=10, \\\n",
    "           kernel_regularizer=regularizers.l2(0.01), strides=1, padding=\"same\",kernel_initializer = initializers.RandomUniform(minval=-1, maxval=1, seed=s)),\n",
    "    Activation(\"relu\"),\n",
    "    Conv1D(filters=HNn[2], kernel_size=3, \\\n",
    "           kernel_regularizer=regularizers.l2(0.01), strides=1, padding=\"same\",kernel_initializer = initializers.RandomUniform(minval=-1, maxval=1, seed=s)),\n",
    "    Activation(\"relu\"),\n",
    "    Conv1D(filters=HNn[3], kernel_size=3, \\\n",
    "           kernel_regularizer=regularizers.l2(0.01), strides=1, padding=\"same\",kernel_initializer = initializers.RandomUniform(minval=-1, maxval=1, seed=s)),\n",
    "    Activation(\"relu\"),\n",
    "    Flatten(),\n",
    "    Dense(73, input_shape=(72*HNn[2],), kernel_regularizer = regularizers.l2(0.01),kernel_initializer = initializers.RandomUniform(minval=-1, maxval=1, seed=s))\n",
    "])\n",
    "\n",
    "sgd = optimizers.SGD(lr=0.1, decay=1e-6, momentum=0.9)\n",
    "model.compile(optimizer=sgd,\n",
    "             loss='mse',\n",
    "             )\n",
    "#model.summary()\n",
    "model.save('arch1_FCNN.h5')"
   ]
  },
  {
   "cell_type": "code",
   "execution_count": null,
   "metadata": {},
   "outputs": [],
   "source": []
  },
  {
   "cell_type": "code",
   "execution_count": 29,
   "metadata": {
    "scrolled": false
   },
   "outputs": [
    {
     "name": "stdout",
     "output_type": "stream",
     "text": [
      "_________________________________________________________________\n",
      "Layer (type)                 Output Shape              Param #   \n",
      "=================================================================\n",
      "lstm_28 (LSTM)               (None, 72, 11)            748       \n",
      "_________________________________________________________________\n",
      "dense_15 (Dense)             (None, 72, 6)             72        \n",
      "_________________________________________________________________\n",
      "activation_15 (Activation)   (None, 72, 6)             0         \n",
      "=================================================================\n",
      "Total params: 820\n",
      "Trainable params: 820\n",
      "Non-trainable params: 0\n",
      "_________________________________________________________________\n"
     ]
    }
   ],
   "source": [
    "model.summary()"
   ]
  },
  {
   "cell_type": "markdown",
   "metadata": {},
   "source": [
    "### MODEL 2 :\n",
    "\n",
    "- FCNN\n",
    "- (with AE)"
   ]
  },
  {
   "cell_type": "code",
   "execution_count": 34,
   "metadata": {},
   "outputs": [
    {
     "name": "stdout",
     "output_type": "stream",
     "text": [
      "_________________________________________________________________\n",
      "Layer (type)                 Output Shape              Param #   \n",
      "=================================================================\n",
      "dense_2 (Dense)              (None, 128)               64640     \n",
      "_________________________________________________________________\n",
      "dense_3 (Dense)              (None, 73)                9417      \n",
      "=================================================================\n",
      "Total params: 74,057\n",
      "Trainable params: 74,057\n",
      "Non-trainable params: 0\n",
      "_________________________________________________________________\n"
     ]
    }
   ],
   "source": [
    "model2 = Sequential([\n",
    "    Dense(128, input_shape=(72*(d-5), )),\n",
    "    Dense(73, )\n",
    "])\n",
    "model2.compile(optimizer=sgd,\n",
    "             loss='mse',\n",
    "             )\n",
    "model2.summary()"
   ]
  },
  {
   "cell_type": "code",
   "execution_count": null,
   "metadata": {},
   "outputs": [],
   "source": []
  },
  {
   "cell_type": "code",
   "execution_count": null,
   "metadata": {},
   "outputs": [],
   "source": []
  },
  {
   "cell_type": "code",
   "execution_count": null,
   "metadata": {},
   "outputs": [],
   "source": []
  },
  {
   "cell_type": "code",
   "execution_count": null,
   "metadata": {},
   "outputs": [],
   "source": []
  },
  {
   "cell_type": "code",
   "execution_count": null,
   "metadata": {},
   "outputs": [],
   "source": [
    "w=model.weights[0]"
   ]
  },
  {
   "cell_type": "markdown",
   "metadata": {},
   "source": [
    "##### MODEL 2 : FCM-Final FC"
   ]
  },
  {
   "cell_type": "markdown",
   "metadata": {},
   "source": [
    "##### MODEL 2 : U-net :\n",
    "- use regular U-net so all layers affect each other and more stability"
   ]
  },
  {
   "cell_type": "markdown",
   "metadata": {},
   "source": [
    "### MODEL 3 : Bidir-LSTM \n",
    "> Possible alternatives\n",
    "\n",
    "- use two LSTM to show both impact of superior and inferior layer\n",
    "- use attention model over it\n",
    "- use w embeddings before\n",
    "\n",
    "> TD\n",
    "\n",
    "- Read git trez\n",
    "- Read article of Hedge fun"
   ]
  },
  {
   "cell_type": "code",
   "execution_count": null,
   "metadata": {},
   "outputs": [],
   "source": []
  },
  {
   "cell_type": "code",
   "execution_count": 22,
   "metadata": {},
   "outputs": [
    {
     "data": {
      "text/plain": [
       "1440"
      ]
     },
     "execution_count": 22,
     "metadata": {},
     "output_type": "execute_result"
    }
   ],
   "source": [
    "model.add()"
   ]
  },
  {
   "cell_type": "code",
   "execution_count": null,
   "metadata": {},
   "outputs": [],
   "source": []
  }
 ],
 "metadata": {
  "kernelspec": {
   "display_name": "Python 3",
   "language": "python",
   "name": "python3"
  },
  "language_info": {
   "codemirror_mode": {
    "name": "ipython",
    "version": 3
   },
   "file_extension": ".py",
   "mimetype": "text/x-python",
   "name": "python",
   "nbconvert_exporter": "python",
   "pygments_lexer": "ipython3",
   "version": "3.6.7"
  }
 },
 "nbformat": 4,
 "nbformat_minor": 2
}
